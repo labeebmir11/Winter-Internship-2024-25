{
 "cells": [
  {
   "cell_type": "markdown",
   "id": "9c63991a-1c42-4df9-9e17-23f057af26ec",
   "metadata": {},
   "source": [
    "Sets"
   ]
  },
  {
   "cell_type": "code",
   "execution_count": 164,
   "id": "9858d6ae-5bb8-405f-965a-80145e52044e",
   "metadata": {},
   "outputs": [],
   "source": [
    "#use of curly braces"
   ]
  },
  {
   "cell_type": "code",
   "execution_count": 166,
   "id": "4a539c4e-c9c8-4575-8717-0e6ead45dd9a",
   "metadata": {},
   "outputs": [],
   "source": [
    "s1={}"
   ]
  },
  {
   "cell_type": "code",
   "execution_count": 168,
   "id": "e1ce6824-60f0-4aa8-b3ca-2bd60a9d230e",
   "metadata": {},
   "outputs": [
    {
     "data": {
      "text/plain": [
       "dict"
      ]
     },
     "execution_count": 168,
     "metadata": {},
     "output_type": "execute_result"
    }
   ],
   "source": [
    "type(s1)"
   ]
  },
  {
   "cell_type": "code",
   "execution_count": 170,
   "id": "77721469-4044-4156-a091-16ab209a266e",
   "metadata": {},
   "outputs": [],
   "source": [
    "s1={1,2,3}"
   ]
  },
  {
   "cell_type": "code",
   "execution_count": 172,
   "id": "e14d129b-eff9-4bac-bae7-45530d5b6fe9",
   "metadata": {},
   "outputs": [
    {
     "data": {
      "text/plain": [
       "set"
      ]
     },
     "execution_count": 172,
     "metadata": {},
     "output_type": "execute_result"
    }
   ],
   "source": [
    "type(s1)"
   ]
  },
  {
   "cell_type": "code",
   "execution_count": 174,
   "id": "4cdc6a5e-22fb-4bbe-8a28-501142c2e696",
   "metadata": {},
   "outputs": [],
   "source": [
    "s2={}"
   ]
  },
  {
   "cell_type": "code",
   "execution_count": 176,
   "id": "d0c3de96-18b6-4c00-9485-da14aae92d20",
   "metadata": {},
   "outputs": [],
   "source": [
    "s2={\"key1\" : 1}"
   ]
  },
  {
   "cell_type": "code",
   "execution_count": 178,
   "id": "1928f4b7-0393-4d0d-9558-0b1a166b04b1",
   "metadata": {},
   "outputs": [
    {
     "data": {
      "text/plain": [
       "{'key1': 1}"
      ]
     },
     "execution_count": 178,
     "metadata": {},
     "output_type": "execute_result"
    }
   ],
   "source": [
    "s2"
   ]
  },
  {
   "cell_type": "code",
   "execution_count": 180,
   "id": "620402e4-8867-479f-af44-5d6349829ec0",
   "metadata": {},
   "outputs": [
    {
     "data": {
      "text/plain": [
       "dict"
      ]
     },
     "execution_count": 180,
     "metadata": {},
     "output_type": "execute_result"
    }
   ],
   "source": [
    "type(s2)"
   ]
  },
  {
   "cell_type": "code",
   "execution_count": 182,
   "id": "cc4a506d-719e-4967-91f2-b451f6af7429",
   "metadata": {},
   "outputs": [],
   "source": [
    "t1=(1,2,3,(4,5,6),[7,8,9])\n"
   ]
  },
  {
   "cell_type": "code",
   "execution_count": 184,
   "id": "924efd0f-5683-4908-96ba-ab478e8afa08",
   "metadata": {},
   "outputs": [
    {
     "data": {
      "text/plain": [
       "(1, 2, 3, (4, 5, 6), [7, 8, 9])"
      ]
     },
     "execution_count": 184,
     "metadata": {},
     "output_type": "execute_result"
    }
   ],
   "source": [
    "t1"
   ]
  },
  {
   "cell_type": "code",
   "execution_count": 186,
   "id": "0bba4a6f-267f-4d6d-87c5-48b1367e0207",
   "metadata": {},
   "outputs": [],
   "source": [
    "#t1[3]=99 tuple' object does not support item assignment"
   ]
  },
  {
   "cell_type": "code",
   "execution_count": 188,
   "id": "ec024869-d983-4167-a128-bd12fedd40ac",
   "metadata": {},
   "outputs": [],
   "source": [
    "#t1[4] = 54 #nested list is element of tuple, thus cannot be changed. However, the itemsinside the nested list can be changed"
   ]
  },
  {
   "cell_type": "code",
   "execution_count": 190,
   "id": "e3a3918a-b18a-41a5-a52c-abcda72e9288",
   "metadata": {},
   "outputs": [],
   "source": [
    "t1[4][0] = 23"
   ]
  },
  {
   "cell_type": "code",
   "execution_count": 192,
   "id": "15a1c582-f3b7-4072-a042-25daaff0500e",
   "metadata": {},
   "outputs": [
    {
     "data": {
      "text/plain": [
       "(1, 2, 3, (4, 5, 6), [23, 8, 9])"
      ]
     },
     "execution_count": 192,
     "metadata": {},
     "output_type": "execute_result"
    }
   ],
   "source": [
    "t1"
   ]
  },
  {
   "cell_type": "code",
   "execution_count": 194,
   "id": "ac162b26-7d4d-4cc0-b124-ec82a8d726db",
   "metadata": {},
   "outputs": [],
   "source": [
    "s1={1,2,3,5,6,77,88,1,2,3} #sets are unique"
   ]
  },
  {
   "cell_type": "code",
   "execution_count": 196,
   "id": "8412d095-a8cb-490a-8669-2234de5abccc",
   "metadata": {},
   "outputs": [
    {
     "data": {
      "text/plain": [
       "{1, 2, 3, 5, 6, 77, 88}"
      ]
     },
     "execution_count": 196,
     "metadata": {},
     "output_type": "execute_result"
    }
   ],
   "source": [
    "s1"
   ]
  },
  {
   "cell_type": "code",
   "execution_count": 198,
   "id": "2e611206-cff6-4c5f-b943-41a8cbddb434",
   "metadata": {},
   "outputs": [],
   "source": [
    "#no concept of slicing in sets"
   ]
  },
  {
   "cell_type": "code",
   "execution_count": 200,
   "id": "eb35fd2c-2233-4d47-858f-476f41872739",
   "metadata": {},
   "outputs": [],
   "source": [
    "#s1[0] 'set' object is not subscriptable"
   ]
  },
  {
   "cell_type": "code",
   "execution_count": 202,
   "id": "22dcc1b6-1924-4bb5-b2ad-43d74e1ff5d2",
   "metadata": {},
   "outputs": [],
   "source": [
    "s1.add(1234)"
   ]
  },
  {
   "cell_type": "code",
   "execution_count": 204,
   "id": "607ba950-96b3-49e9-aed0-309b4ee681f0",
   "metadata": {},
   "outputs": [
    {
     "data": {
      "text/plain": [
       "{1, 2, 3, 5, 6, 77, 88, 1234}"
      ]
     },
     "execution_count": 204,
     "metadata": {},
     "output_type": "execute_result"
    }
   ],
   "source": [
    "s1"
   ]
  },
  {
   "cell_type": "code",
   "execution_count": 206,
   "id": "c0cc1338-2856-40ab-811a-2b7eb37af301",
   "metadata": {},
   "outputs": [],
   "source": [
    "#elements of a set cannot be accessed via indexing"
   ]
  },
  {
   "cell_type": "code",
   "execution_count": 208,
   "id": "2903e263-af08-48ff-8147-ded36fca4b2c",
   "metadata": {},
   "outputs": [],
   "source": [
    "s1.add(\"labeeb\")"
   ]
  },
  {
   "cell_type": "code",
   "execution_count": 210,
   "id": "bfba1b33-b3eb-4e81-a3be-190b28d070e2",
   "metadata": {},
   "outputs": [],
   "source": [
    "#s1.add([1,2,3])  list can't be added"
   ]
  },
  {
   "cell_type": "code",
   "execution_count": 212,
   "id": "41ddedb9-31c0-4210-9eb6-72133b78995e",
   "metadata": {},
   "outputs": [],
   "source": [
    "s1.add((3,4,5))"
   ]
  },
  {
   "cell_type": "code",
   "execution_count": 214,
   "id": "fc44bdbd-352e-4d15-a266-9ed7bc0c76fb",
   "metadata": {},
   "outputs": [
    {
     "data": {
      "text/plain": [
       "{(3, 4, 5), 1, 1234, 2, 3, 5, 6, 77, 88, 'labeeb'}"
      ]
     },
     "execution_count": 214,
     "metadata": {},
     "output_type": "execute_result"
    }
   ],
   "source": [
    "s1"
   ]
  },
  {
   "cell_type": "code",
   "execution_count": 216,
   "id": "8fa642b5-062e-4d7d-a327-b2b02b0db9cc",
   "metadata": {},
   "outputs": [
    {
     "data": {
      "text/plain": [
       "set"
      ]
     },
     "execution_count": 216,
     "metadata": {},
     "output_type": "execute_result"
    }
   ],
   "source": [
    "type(s1)"
   ]
  },
  {
   "cell_type": "code",
   "execution_count": 218,
   "id": "6302d20c-07a6-48ce-9326-a2bad86b9d43",
   "metadata": {},
   "outputs": [],
   "source": [
    "s1.remove('labeeb')"
   ]
  },
  {
   "cell_type": "code",
   "execution_count": 220,
   "id": "1a53dcc6-9e7e-4595-aaf5-899661b4e2e2",
   "metadata": {},
   "outputs": [
    {
     "data": {
      "text/plain": [
       "{(3, 4, 5), 1, 1234, 2, 3, 5, 6, 77, 88}"
      ]
     },
     "execution_count": 220,
     "metadata": {},
     "output_type": "execute_result"
    }
   ],
   "source": [
    "s1"
   ]
  },
  {
   "cell_type": "code",
   "execution_count": 222,
   "id": "643cc4b0-a202-4542-98ae-06a0c6242cd8",
   "metadata": {},
   "outputs": [],
   "source": [
    "s1.discard(1234)"
   ]
  },
  {
   "cell_type": "code",
   "execution_count": 224,
   "id": "9bc0166e-ca76-438f-902e-c15333ad39a9",
   "metadata": {},
   "outputs": [
    {
     "data": {
      "text/plain": [
       "{(3, 4, 5), 1, 2, 3, 5, 6, 77, 88}"
      ]
     },
     "execution_count": 224,
     "metadata": {},
     "output_type": "execute_result"
    }
   ],
   "source": [
    "s1"
   ]
  },
  {
   "cell_type": "code",
   "execution_count": 226,
   "id": "c3b93960-08a6-42e6-86db-c6686c46fb9c",
   "metadata": {},
   "outputs": [],
   "source": [
    "#Use remove() when the element must exist and an error is desired if it doesn’t.\n",
    "#Use discard() when the element might not exist and you don’t want to handle potential errors."
   ]
  },
  {
   "cell_type": "code",
   "execution_count": 228,
   "id": "7fa796e6-1031-4d48-8f1d-9f211f4f0a74",
   "metadata": {},
   "outputs": [],
   "source": [
    "#s1.remove(555) key error"
   ]
  },
  {
   "cell_type": "code",
   "execution_count": 230,
   "id": "9ef015f7-55c2-4832-9b8e-3882eb267886",
   "metadata": {},
   "outputs": [],
   "source": [
    "s1.discard(555)"
   ]
  },
  {
   "cell_type": "code",
   "execution_count": 232,
   "id": "fdd0f0ad-1e77-463c-9360-6d183f81f700",
   "metadata": {},
   "outputs": [],
   "source": [
    "#s1.clear()"
   ]
  },
  {
   "cell_type": "code",
   "execution_count": 234,
   "id": "ad3a3b65-8024-4ad4-8406-ef44f7e508a8",
   "metadata": {},
   "outputs": [
    {
     "data": {
      "text/plain": [
       "{(3, 4, 5), 1, 2, 3, 5, 6, 77, 88}"
      ]
     },
     "execution_count": 234,
     "metadata": {},
     "output_type": "execute_result"
    }
   ],
   "source": [
    "s1"
   ]
  },
  {
   "cell_type": "code",
   "execution_count": 236,
   "id": "cc4bac96-2d65-4e53-95d4-d8164fcd3b42",
   "metadata": {},
   "outputs": [
    {
     "data": {
      "text/plain": [
       "{(3, 4, 5), 1, 2, 3, 5, 6, 77, 88}"
      ]
     },
     "execution_count": 236,
     "metadata": {},
     "output_type": "execute_result"
    }
   ],
   "source": [
    "s1"
   ]
  },
  {
   "cell_type": "code",
   "execution_count": 238,
   "id": "69eb91d8-6bf9-4e1a-9448-fbf1bb18217a",
   "metadata": {},
   "outputs": [],
   "source": [
    "s2=s1.copy()"
   ]
  },
  {
   "cell_type": "markdown",
   "id": "fad9c268-e1a7-4dc7-a73a-2b3f724c4579",
   "metadata": {},
   "source": [
    "s2"
   ]
  },
  {
   "cell_type": "code",
   "execution_count": 241,
   "id": "d88d77a3-f95c-4b31-b961-35f7110e11e0",
   "metadata": {},
   "outputs": [
    {
     "data": {
      "text/plain": [
       "{(3, 4, 5), 1, 2, 3, 5, 6, 77, 88}"
      ]
     },
     "execution_count": 241,
     "metadata": {},
     "output_type": "execute_result"
    }
   ],
   "source": [
    "s2"
   ]
  },
  {
   "cell_type": "code",
   "execution_count": 243,
   "id": "f4a5d707-d6af-495c-8885-78f68b517017",
   "metadata": {},
   "outputs": [
    {
     "data": {
      "text/plain": [
       "set()"
      ]
     },
     "execution_count": 243,
     "metadata": {},
     "output_type": "execute_result"
    }
   ],
   "source": [
    "s1.difference(s2)"
   ]
  },
  {
   "cell_type": "code",
   "execution_count": 245,
   "id": "8684c8a6-7e38-4fac-8815-1a61db977708",
   "metadata": {},
   "outputs": [],
   "source": [
    "s3={6,77}"
   ]
  },
  {
   "cell_type": "code",
   "execution_count": 247,
   "id": "ae6954d9-6f80-492d-a7ee-ee0365e70b84",
   "metadata": {},
   "outputs": [],
   "source": [
    "s4=s1.difference(s3)"
   ]
  },
  {
   "cell_type": "code",
   "execution_count": 249,
   "id": "8c5b8015-6f8a-41eb-b4ff-163d8f6bd874",
   "metadata": {},
   "outputs": [
    {
     "data": {
      "text/plain": [
       "{(3, 4, 5), 1, 2, 3, 5, 88}"
      ]
     },
     "execution_count": 249,
     "metadata": {},
     "output_type": "execute_result"
    }
   ],
   "source": [
    "s4"
   ]
  },
  {
   "cell_type": "code",
   "execution_count": 251,
   "id": "c66d3b25-bdbc-48c6-88ad-ffdd4ee34b9e",
   "metadata": {},
   "outputs": [],
   "source": [
    "s1={1,2,3,4,5}"
   ]
  },
  {
   "cell_type": "code",
   "execution_count": 253,
   "id": "306b0b4e-504c-46c5-9038-d8912f60392f",
   "metadata": {},
   "outputs": [],
   "source": [
    "s2={3,4,5,6,7}"
   ]
  },
  {
   "cell_type": "code",
   "execution_count": 255,
   "id": "1bb01acf-1f7a-43a4-b8db-4720ee4cdb60",
   "metadata": {},
   "outputs": [],
   "source": [
    "s3=s1.intersection(s2)"
   ]
  },
  {
   "cell_type": "code",
   "execution_count": 257,
   "id": "7e8205a9-ba2c-4963-8147-436da00180dd",
   "metadata": {},
   "outputs": [
    {
     "data": {
      "text/plain": [
       "{3, 4, 5}"
      ]
     },
     "execution_count": 257,
     "metadata": {},
     "output_type": "execute_result"
    }
   ],
   "source": [
    "s3"
   ]
  },
  {
   "cell_type": "code",
   "execution_count": 259,
   "id": "a3c04fa0-ff43-4875-88b0-9953c788eeb8",
   "metadata": {},
   "outputs": [],
   "source": [
    "s3=s1.union(s2)"
   ]
  },
  {
   "cell_type": "code",
   "execution_count": 261,
   "id": "a2f5fb6f-f4cd-4fa7-9d0d-ec6db84befa4",
   "metadata": {},
   "outputs": [
    {
     "data": {
      "text/plain": [
       "{1, 2, 3, 4, 5, 6, 7}"
      ]
     },
     "execution_count": 261,
     "metadata": {},
     "output_type": "execute_result"
    }
   ],
   "source": [
    "s3"
   ]
  },
  {
   "cell_type": "code",
   "execution_count": 263,
   "id": "1adc1d35-1e73-4f43-a57e-09ba90e67533",
   "metadata": {},
   "outputs": [
    {
     "data": {
      "text/plain": [
       "False"
      ]
     },
     "execution_count": 263,
     "metadata": {},
     "output_type": "execute_result"
    }
   ],
   "source": [
    "s1.isdisjoint(s2)"
   ]
  },
  {
   "cell_type": "code",
   "execution_count": 265,
   "id": "d9d8432b-7f20-4cf3-9c94-06acfb39af6d",
   "metadata": {},
   "outputs": [
    {
     "data": {
      "text/plain": [
       "False"
      ]
     },
     "execution_count": 265,
     "metadata": {},
     "output_type": "execute_result"
    }
   ],
   "source": [
    "s1.issubset(s2)"
   ]
  },
  {
   "cell_type": "code",
   "execution_count": 267,
   "id": "7bb4f0f1-d771-4145-a45e-c7743d2df4c4",
   "metadata": {},
   "outputs": [],
   "source": [
    "s4={3,4,6}"
   ]
  },
  {
   "cell_type": "code",
   "execution_count": 269,
   "id": "b6c46bae-6def-4660-b4a4-b9c91f4acce4",
   "metadata": {},
   "outputs": [],
   "source": [
    "s5={3}"
   ]
  },
  {
   "cell_type": "code",
   "execution_count": 271,
   "id": "14585ff2-8497-49a9-87e2-95c7d9c3845a",
   "metadata": {},
   "outputs": [
    {
     "data": {
      "text/plain": [
       "True"
      ]
     },
     "execution_count": 271,
     "metadata": {},
     "output_type": "execute_result"
    }
   ],
   "source": [
    "s5.issubset(s4)"
   ]
  },
  {
   "cell_type": "code",
   "execution_count": 273,
   "id": "a5f333ff-6ce0-42d7-8187-482266baf9f6",
   "metadata": {},
   "outputs": [
    {
     "data": {
      "text/plain": [
       "{1, 2, 3, 4, 5}"
      ]
     },
     "execution_count": 273,
     "metadata": {},
     "output_type": "execute_result"
    }
   ],
   "source": [
    "s1"
   ]
  },
  {
   "cell_type": "code",
   "execution_count": 275,
   "id": "5a664d49-ddd0-41b7-bdf8-07201fd2c3ad",
   "metadata": {},
   "outputs": [],
   "source": [
    "s1={1,2,3,4,5}"
   ]
  },
  {
   "cell_type": "code",
   "execution_count": 277,
   "id": "aec2c060-8e28-440c-bf6a-1fca4157b351",
   "metadata": {},
   "outputs": [
    {
     "data": {
      "text/plain": [
       "1"
      ]
     },
     "execution_count": 277,
     "metadata": {},
     "output_type": "execute_result"
    }
   ],
   "source": [
    "s1.pop()"
   ]
  },
  {
   "cell_type": "code",
   "execution_count": 279,
   "id": "a68764a5-cc98-48eb-b441-3ab76d95daf8",
   "metadata": {},
   "outputs": [
    {
     "data": {
      "text/plain": [
       "{2, 3, 4, 5}"
      ]
     },
     "execution_count": 279,
     "metadata": {},
     "output_type": "execute_result"
    }
   ],
   "source": [
    "s1"
   ]
  },
  {
   "cell_type": "code",
   "execution_count": 281,
   "id": "3e3a3087-08ee-4382-9fbe-be232767d058",
   "metadata": {},
   "outputs": [
    {
     "data": {
      "text/plain": [
       "{2, 6, 7}"
      ]
     },
     "execution_count": 281,
     "metadata": {},
     "output_type": "execute_result"
    }
   ],
   "source": [
    "s1.symmetric_difference(s2) #XOR"
   ]
  },
  {
   "cell_type": "code",
   "execution_count": 283,
   "id": "d9095383-5263-4585-91c1-3e0e1a6bb07b",
   "metadata": {},
   "outputs": [],
   "source": [
    "#update is equivalent to in place union"
   ]
  },
  {
   "cell_type": "code",
   "execution_count": 285,
   "id": "3dc2da83-c169-4d67-8afb-6a579ab5fbe4",
   "metadata": {},
   "outputs": [],
   "source": [
    "s1.update(s2)"
   ]
  },
  {
   "cell_type": "code",
   "execution_count": 287,
   "id": "32592acc-b25f-449a-861c-3f412d7933fe",
   "metadata": {},
   "outputs": [
    {
     "data": {
      "text/plain": [
       "{2, 3, 4, 5, 6, 7}"
      ]
     },
     "execution_count": 287,
     "metadata": {},
     "output_type": "execute_result"
    }
   ],
   "source": [
    "s1"
   ]
  },
  {
   "cell_type": "code",
   "execution_count": null,
   "id": "4b6d54df-d5ad-49bc-8ec1-23006bc873fb",
   "metadata": {},
   "outputs": [],
   "source": [
    "Dictionary"
   ]
  },
  {
   "cell_type": "code",
   "execution_count": 296,
   "id": "2ac03d4a-7071-403d-b687-cc35a8056113",
   "metadata": {},
   "outputs": [],
   "source": [
    "#key value pair"
   ]
  },
  {
   "cell_type": "code",
   "execution_count": 298,
   "id": "b9d99175-325d-4681-9b7a-1e17405f3d79",
   "metadata": {},
   "outputs": [],
   "source": [
    "d1={}"
   ]
  },
  {
   "cell_type": "code",
   "execution_count": 300,
   "id": "b62e0dd8-25ff-430a-badb-d24831523a78",
   "metadata": {},
   "outputs": [
    {
     "data": {
      "text/plain": [
       "dict"
      ]
     },
     "execution_count": 300,
     "metadata": {},
     "output_type": "execute_result"
    }
   ],
   "source": [
    "type(d1)"
   ]
  },
  {
   "cell_type": "code",
   "execution_count": 312,
   "id": "0c14613f-2afd-423d-a2da-eae7254e6b0e",
   "metadata": {},
   "outputs": [],
   "source": [
    "d1={\"key1\" : 1, \"k2\" : \"labeeb\", \"k3\" : [22,33,44,55]}   #key is always a string, val can be int/float/list/tuple etc"
   ]
  },
  {
   "cell_type": "code",
   "execution_count": 314,
   "id": "b1811b1e-989f-4256-9765-7aebe4d41fac",
   "metadata": {},
   "outputs": [
    {
     "data": {
      "text/plain": [
       "{'key1': 1, 'k2': 'labeeb', 'k3': [22, 33, 44, 55]}"
      ]
     },
     "execution_count": 314,
     "metadata": {},
     "output_type": "execute_result"
    }
   ],
   "source": [
    "d1"
   ]
  },
  {
   "cell_type": "code",
   "execution_count": 316,
   "id": "5966251b-7c1d-4179-9b81-3e64fbe3ab5d",
   "metadata": {},
   "outputs": [
    {
     "data": {
      "text/plain": [
       "1"
      ]
     },
     "execution_count": 316,
     "metadata": {},
     "output_type": "execute_result"
    }
   ],
   "source": [
    "d1[\"key1\"]"
   ]
  },
  {
   "cell_type": "code",
   "execution_count": 318,
   "id": "63f6bc22-4830-408f-82c6-2e95035de706",
   "metadata": {},
   "outputs": [
    {
     "data": {
      "text/plain": [
       "[22, 33, 44, 55]"
      ]
     },
     "execution_count": 318,
     "metadata": {},
     "output_type": "execute_result"
    }
   ],
   "source": [
    "d1[\"k3\"]"
   ]
  },
  {
   "cell_type": "code",
   "execution_count": 324,
   "id": "7df62570-b909-43b8-8f2a-45fee7d967af",
   "metadata": {},
   "outputs": [],
   "source": [
    "d2={\"Name\" : \"Labeeb\" , \"Contact\" : 1234567890, \"Email\": \"abc@iust.ac.in\", \"key1\" : [1,2,3,4], \"key2\" : [66,55,44,44], \"key3\" : {\"a\" :11, \"b\": 22}}"
   ]
  },
  {
   "cell_type": "code",
   "execution_count": 326,
   "id": "1e02964a-e0c9-4098-9075-29a3d2265585",
   "metadata": {},
   "outputs": [
    {
     "data": {
      "text/plain": [
       "{'Name': 'Labeeb',\n",
       " 'Contact': 1234567890,\n",
       " 'Email': 'abc@iust.ac.in',\n",
       " 'key1': [1, 2, 3, 4],\n",
       " 'key2': [66, 55, 44, 44],\n",
       " 'key3': {'a': 11, 'b': 22}}"
      ]
     },
     "execution_count": 326,
     "metadata": {},
     "output_type": "execute_result"
    }
   ],
   "source": [
    "d2"
   ]
  },
  {
   "cell_type": "code",
   "execution_count": 328,
   "id": "235a11cb-7787-4e92-9ca8-11338146cd3b",
   "metadata": {},
   "outputs": [
    {
     "data": {
      "text/plain": [
       "dict"
      ]
     },
     "execution_count": 328,
     "metadata": {},
     "output_type": "execute_result"
    }
   ],
   "source": [
    "type(d2)"
   ]
  },
  {
   "cell_type": "code",
   "execution_count": 330,
   "id": "a3e121f8-0fae-4fe4-bf60-514e7dc495dc",
   "metadata": {},
   "outputs": [
    {
     "data": {
      "text/plain": [
       "str"
      ]
     },
     "execution_count": 330,
     "metadata": {},
     "output_type": "execute_result"
    }
   ],
   "source": [
    "type(\"Name\")"
   ]
  },
  {
   "cell_type": "code",
   "execution_count": 336,
   "id": "afc0bc16-ae9f-4c50-90f0-b51834984764",
   "metadata": {},
   "outputs": [
    {
     "data": {
      "text/plain": [
       "str"
      ]
     },
     "execution_count": 336,
     "metadata": {},
     "output_type": "execute_result"
    }
   ],
   "source": [
    "type(d2[\"Name\"])"
   ]
  },
  {
   "cell_type": "code",
   "execution_count": 332,
   "id": "e1483244-8310-4d86-aafb-9e8c087baea4",
   "metadata": {},
   "outputs": [
    {
     "data": {
      "text/plain": [
       "str"
      ]
     },
     "execution_count": 332,
     "metadata": {},
     "output_type": "execute_result"
    }
   ],
   "source": [
    "type(\"Contact\")"
   ]
  },
  {
   "cell_type": "code",
   "execution_count": 338,
   "id": "f87b384e-d766-40e1-81be-66bd0358eb4c",
   "metadata": {},
   "outputs": [
    {
     "data": {
      "text/plain": [
       "int"
      ]
     },
     "execution_count": 338,
     "metadata": {},
     "output_type": "execute_result"
    }
   ],
   "source": [
    "type(d2[\"Contact\"])"
   ]
  },
  {
   "cell_type": "code",
   "execution_count": 340,
   "id": "82381b1e-1884-4af4-9f25-855187e2e294",
   "metadata": {},
   "outputs": [
    {
     "data": {
      "text/plain": [
       "str"
      ]
     },
     "execution_count": 340,
     "metadata": {},
     "output_type": "execute_result"
    }
   ],
   "source": [
    "type(\"key1\")"
   ]
  },
  {
   "cell_type": "code",
   "execution_count": 342,
   "id": "a4e6ab70-f19e-40dc-bd62-4f6c170458d0",
   "metadata": {},
   "outputs": [
    {
     "data": {
      "text/plain": [
       "list"
      ]
     },
     "execution_count": 342,
     "metadata": {},
     "output_type": "execute_result"
    }
   ],
   "source": [
    "type(d2[\"key1\"])"
   ]
  },
  {
   "cell_type": "code",
   "execution_count": 344,
   "id": "db07b2cf-dd43-4a10-bccc-6025eb17be0a",
   "metadata": {},
   "outputs": [
    {
     "data": {
      "text/plain": [
       "dict"
      ]
     },
     "execution_count": 344,
     "metadata": {},
     "output_type": "execute_result"
    }
   ],
   "source": [
    "type(d2[\"key3\"])"
   ]
  },
  {
   "cell_type": "code",
   "execution_count": 346,
   "id": "b5b5ffb4-3bea-47db-bfea-4c18860a49ff",
   "metadata": {},
   "outputs": [
    {
     "data": {
      "text/plain": [
       "dict_keys(['Name', 'Contact', 'Email', 'key1', 'key2', 'key3'])"
      ]
     },
     "execution_count": 346,
     "metadata": {},
     "output_type": "execute_result"
    }
   ],
   "source": [
    "d2.keys()"
   ]
  },
  {
   "cell_type": "code",
   "execution_count": 348,
   "id": "a37c0fbe-fd77-4237-8945-b50cfe3a1f81",
   "metadata": {},
   "outputs": [
    {
     "data": {
      "text/plain": [
       "dict_keys(['a', 'b'])"
      ]
     },
     "execution_count": 348,
     "metadata": {},
     "output_type": "execute_result"
    }
   ],
   "source": [
    "d2[\"key3\"].keys()"
   ]
  },
  {
   "cell_type": "code",
   "execution_count": 358,
   "id": "f7595c7d-60e3-4e92-bd06-9a85d2c31ae0",
   "metadata": {},
   "outputs": [],
   "source": [
    "d2[\"Email\"] = \"abcd@iust.ac.in\""
   ]
  },
  {
   "cell_type": "code",
   "execution_count": 360,
   "id": "511b1fc4-bbc6-4ddf-a6d5-65a84e8d9b69",
   "metadata": {},
   "outputs": [
    {
     "data": {
      "text/plain": [
       "{'Name': 'Labeeb',\n",
       " 'Contact': 1234567890,\n",
       " 'Email': 'abcd@iust.ac.in',\n",
       " 'key1': [1, 2, 3, 4],\n",
       " 'key2': [66, 55, 44, 44],\n",
       " 'key3': {'a': 11, 'b': 22}}"
      ]
     },
     "execution_count": 360,
     "metadata": {},
     "output_type": "execute_result"
    }
   ],
   "source": [
    "d2"
   ]
  },
  {
   "cell_type": "code",
   "execution_count": 362,
   "id": "5454ea12-15dc-4c10-9898-edebb99a687c",
   "metadata": {},
   "outputs": [],
   "source": [
    "d4 = d2.copy()"
   ]
  },
  {
   "cell_type": "code",
   "execution_count": 364,
   "id": "6dc2dba8-0718-4f95-a425-3ca2fafe916a",
   "metadata": {},
   "outputs": [
    {
     "data": {
      "text/plain": [
       "{'Name': 'Labeeb',\n",
       " 'Contact': 1234567890,\n",
       " 'Email': 'abcd@iust.ac.in',\n",
       " 'key1': [1, 2, 3, 4],\n",
       " 'key2': [66, 55, 44, 44],\n",
       " 'key3': {'a': 11, 'b': 22}}"
      ]
     },
     "execution_count": 364,
     "metadata": {},
     "output_type": "execute_result"
    }
   ],
   "source": [
    "d4"
   ]
  },
  {
   "cell_type": "code",
   "execution_count": 366,
   "id": "6ee361c8-a3fd-47e5-a00b-b0ffc51f7338",
   "metadata": {},
   "outputs": [],
   "source": [
    "d4.clear()"
   ]
  },
  {
   "cell_type": "code",
   "execution_count": 368,
   "id": "6d5ea89e-dc32-4918-8698-bedee072aaf1",
   "metadata": {},
   "outputs": [
    {
     "data": {
      "text/plain": [
       "{}"
      ]
     },
     "execution_count": 368,
     "metadata": {},
     "output_type": "execute_result"
    }
   ],
   "source": [
    "d4"
   ]
  },
  {
   "cell_type": "code",
   "execution_count": 370,
   "id": "c8bf527a-8f25-48bd-9f27-86e90fabc69a",
   "metadata": {},
   "outputs": [],
   "source": [
    "del d4"
   ]
  },
  {
   "cell_type": "code",
   "execution_count": 374,
   "id": "539f9eae-7c36-436d-8eb3-7c0b26202fe4",
   "metadata": {},
   "outputs": [],
   "source": [
    "#d4"
   ]
  },
  {
   "cell_type": "code",
   "execution_count": 376,
   "id": "d43acc94-a396-4e3c-aca5-a3f016aa3b26",
   "metadata": {},
   "outputs": [],
   "source": [
    "# del function deletes the whole dictionary \n",
    "# clear just deletes data from the dictionary"
   ]
  },
  {
   "cell_type": "code",
   "execution_count": 378,
   "id": "cf297a45-a2e9-4fd2-b3dd-f590e2df97b3",
   "metadata": {},
   "outputs": [
    {
     "data": {
      "text/plain": [
       "[66, 55, 44, 44]"
      ]
     },
     "execution_count": 378,
     "metadata": {},
     "output_type": "execute_result"
    }
   ],
   "source": [
    "d2.pop(\"key2\")"
   ]
  },
  {
   "cell_type": "code",
   "execution_count": 380,
   "id": "90ed880c-0e16-4ecb-a4c8-2623842ef571",
   "metadata": {},
   "outputs": [
    {
     "data": {
      "text/plain": [
       "{'Name': 'Labeeb',\n",
       " 'Contact': 1234567890,\n",
       " 'Email': 'abcd@iust.ac.in',\n",
       " 'key1': [1, 2, 3, 4],\n",
       " 'key3': {'a': 11, 'b': 22}}"
      ]
     },
     "execution_count": 380,
     "metadata": {},
     "output_type": "execute_result"
    }
   ],
   "source": [
    "d2"
   ]
  },
  {
   "cell_type": "code",
   "execution_count": 382,
   "id": "33997231-634a-425d-890e-5ed5a799b8fa",
   "metadata": {},
   "outputs": [
    {
     "data": {
      "text/plain": [
       "'Labeeb'"
      ]
     },
     "execution_count": 382,
     "metadata": {},
     "output_type": "execute_result"
    }
   ],
   "source": [
    "d2.get(\"Name\")"
   ]
  },
  {
   "cell_type": "code",
   "execution_count": 384,
   "id": "e9def9ed-be57-4c9d-8fa9-276d614e17d3",
   "metadata": {},
   "outputs": [
    {
     "data": {
      "text/plain": [
       "{'a': 11, 'b': 22}"
      ]
     },
     "execution_count": 384,
     "metadata": {},
     "output_type": "execute_result"
    }
   ],
   "source": [
    "d2.get(\"key3\")"
   ]
  },
  {
   "cell_type": "code",
   "execution_count": 386,
   "id": "34cd79a9-b255-4959-b196-af690de5f14a",
   "metadata": {},
   "outputs": [],
   "source": [
    "d3={\"aadhar\" : 4645645}"
   ]
  },
  {
   "cell_type": "code",
   "execution_count": 388,
   "id": "b98f7177-e22c-4bba-a6ce-1abb22793688",
   "metadata": {},
   "outputs": [
    {
     "data": {
      "text/plain": [
       "{'Name': 'Labeeb',\n",
       " 'Contact': 1234567890,\n",
       " 'Email': 'abcd@iust.ac.in',\n",
       " 'key1': [1, 2, 3, 4],\n",
       " 'key3': {'a': 11, 'b': 22}}"
      ]
     },
     "execution_count": 388,
     "metadata": {},
     "output_type": "execute_result"
    }
   ],
   "source": [
    "d2"
   ]
  },
  {
   "cell_type": "code",
   "execution_count": 390,
   "id": "0e426306-4b17-4ea1-a8c2-4da42601b43b",
   "metadata": {},
   "outputs": [],
   "source": [
    "d2.update(d3) ##d2 is updated with val from d3"
   ]
  },
  {
   "cell_type": "code",
   "execution_count": 392,
   "id": "e57c6051-fb67-4231-a026-6dbde6e2553c",
   "metadata": {},
   "outputs": [
    {
     "data": {
      "text/plain": [
       "{'Name': 'Labeeb',\n",
       " 'Contact': 1234567890,\n",
       " 'Email': 'abcd@iust.ac.in',\n",
       " 'key1': [1, 2, 3, 4],\n",
       " 'key3': {'a': 11, 'b': 22},\n",
       " 'aadhar': 4645645}"
      ]
     },
     "execution_count": 392,
     "metadata": {},
     "output_type": "execute_result"
    }
   ],
   "source": [
    "d2"
   ]
  },
  {
   "cell_type": "code",
   "execution_count": 396,
   "id": "9884c462-145c-48da-9afe-d8c7e8848c23",
   "metadata": {},
   "outputs": [],
   "source": [
    "d4={\"pan\" : 4756}"
   ]
  },
  {
   "cell_type": "code",
   "execution_count": 404,
   "id": "10570460-774e-44cc-82f4-27202c0211d1",
   "metadata": {},
   "outputs": [],
   "source": [
    "d6 = d2.update(d4) #we have not specified type of d6"
   ]
  },
  {
   "cell_type": "code",
   "execution_count": 406,
   "id": "a5d7fc5e-7a56-4b77-a5ee-658d6732f8ad",
   "metadata": {},
   "outputs": [],
   "source": [
    "d6"
   ]
  },
  {
   "cell_type": "code",
   "execution_count": 402,
   "id": "cfef4304-4add-46d0-93df-4127d20a8150",
   "metadata": {},
   "outputs": [
    {
     "data": {
      "text/plain": [
       "{'Name': 'Labeeb',\n",
       " 'Contact': 1234567890,\n",
       " 'Email': 'abcd@iust.ac.in',\n",
       " 'key1': [1, 2, 3, 4],\n",
       " 'key3': {'a': 11, 'b': 22},\n",
       " 'aadhar': 4645645,\n",
       " 'pan': 4756}"
      ]
     },
     "execution_count": 402,
     "metadata": {},
     "output_type": "execute_result"
    }
   ],
   "source": [
    "d2"
   ]
  },
  {
   "cell_type": "code",
   "execution_count": 408,
   "id": "eebb158c-540c-45ae-a0e4-abd68ac82237",
   "metadata": {},
   "outputs": [],
   "source": [
    "d6={}"
   ]
  },
  {
   "cell_type": "code",
   "execution_count": 410,
   "id": "bd73e5cb-b15a-4efd-b391-27e8d205b09c",
   "metadata": {},
   "outputs": [],
   "source": [
    "d6 = d2.update(d4) # still doesn't work, need to use copy"
   ]
  },
  {
   "cell_type": "code",
   "execution_count": 414,
   "id": "3f0d3878-650a-4428-b44d-04fd18945d50",
   "metadata": {},
   "outputs": [],
   "source": [
    "d6= d2.copy()"
   ]
  },
  {
   "cell_type": "code",
   "execution_count": 417,
   "id": "008371ec-2110-4737-b089-7a2490bd81a6",
   "metadata": {},
   "outputs": [
    {
     "data": {
      "text/plain": [
       "{'Name': 'Labeeb',\n",
       " 'Contact': 1234567890,\n",
       " 'Email': 'abcd@iust.ac.in',\n",
       " 'key1': [1, 2, 3, 4],\n",
       " 'key3': {'a': 11, 'b': 22},\n",
       " 'aadhar': 4645645,\n",
       " 'pan': 4756}"
      ]
     },
     "execution_count": 417,
     "metadata": {},
     "output_type": "execute_result"
    }
   ],
   "source": [
    "d6"
   ]
  },
  {
   "cell_type": "code",
   "execution_count": 419,
   "id": "4549732b-27bb-482a-8cbd-31d2809b5f64",
   "metadata": {},
   "outputs": [
    {
     "data": {
      "text/plain": [
       "dict_values(['Labeeb', 1234567890, 'abcd@iust.ac.in', [1, 2, 3, 4], {'a': 11, 'b': 22}, 4645645, 4756])"
      ]
     },
     "execution_count": 419,
     "metadata": {},
     "output_type": "execute_result"
    }
   ],
   "source": [
    "d6.values()"
   ]
  },
  {
   "cell_type": "code",
   "execution_count": 421,
   "id": "233db14f-ad87-4beb-9c5a-ca0aa6f281c9",
   "metadata": {},
   "outputs": [
    {
     "data": {
      "text/plain": [
       "{'p': None, 'a': None, 'n': None}"
      ]
     },
     "execution_count": 421,
     "metadata": {},
     "output_type": "execute_result"
    }
   ],
   "source": [
    "d6.fromkeys(\"pan\")"
   ]
  },
  {
   "cell_type": "code",
   "execution_count": 423,
   "id": "4cc7bf60-659d-4546-ab31-d7495e52ef8a",
   "metadata": {},
   "outputs": [],
   "source": [
    "keys=[\"x\", \"y\", \"z\"]"
   ]
  },
  {
   "cell_type": "code",
   "execution_count": 425,
   "id": "d4ba3452-fe62-4e65-a02b-cd1e4420c2a3",
   "metadata": {},
   "outputs": [],
   "source": [
    "value = 1"
   ]
  },
  {
   "cell_type": "code",
   "execution_count": 429,
   "id": "3a9c68f0-973f-4b2a-9b35-f58cad995a7c",
   "metadata": {},
   "outputs": [],
   "source": [
    "d6= dict.fromkeys(keys, value)"
   ]
  },
  {
   "cell_type": "code",
   "execution_count": 431,
   "id": "40ef637b-7a72-4b2a-be0a-781fedaba933",
   "metadata": {},
   "outputs": [
    {
     "data": {
      "text/plain": [
       "{'x': 1, 'y': 1, 'z': 1}"
      ]
     },
     "execution_count": 431,
     "metadata": {},
     "output_type": "execute_result"
    }
   ],
   "source": [
    "d6"
   ]
  },
  {
   "cell_type": "code",
   "execution_count": 433,
   "id": "e82dcb16-d8f3-4f82-9418-b1e77edd3bff",
   "metadata": {},
   "outputs": [],
   "source": [
    "#if values are not specified, the default value is none"
   ]
  },
  {
   "cell_type": "code",
   "execution_count": 435,
   "id": "7452e9fc-3b02-49bf-a954-95bfd9d14aab",
   "metadata": {},
   "outputs": [],
   "source": [
    "d7 = dict.fromkeys(keys)"
   ]
  },
  {
   "cell_type": "code",
   "execution_count": 437,
   "id": "23cddeea-6c9e-479c-a595-46b3fc21fe87",
   "metadata": {},
   "outputs": [
    {
     "data": {
      "text/plain": [
       "{'x': None, 'y': None, 'z': None}"
      ]
     },
     "execution_count": 437,
     "metadata": {},
     "output_type": "execute_result"
    }
   ],
   "source": [
    "d7"
   ]
  },
  {
   "cell_type": "code",
   "execution_count": null,
   "id": "be93cdc2-bbba-4f92-96d6-dfa8a4738967",
   "metadata": {},
   "outputs": [],
   "source": []
  }
 ],
 "metadata": {
  "kernelspec": {
   "display_name": "Python [conda env:Anaconda3]",
   "language": "python",
   "name": "conda-env-Anaconda3-py"
  },
  "language_info": {
   "codemirror_mode": {
    "name": "ipython",
    "version": 3
   },
   "file_extension": ".py",
   "mimetype": "text/x-python",
   "name": "python",
   "nbconvert_exporter": "python",
   "pygments_lexer": "ipython3",
   "version": "3.9.16"
  }
 },
 "nbformat": 4,
 "nbformat_minor": 5
}
