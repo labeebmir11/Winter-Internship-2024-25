{
 "cells": [
  {
   "cell_type": "code",
   "execution_count": 1,
   "id": "21610bf7-3eff-4649-b2d9-9ca8d2cf6a7f",
   "metadata": {},
   "outputs": [],
   "source": [
    "# this is my first program(input and output)\n"
   ]
  },
  {
   "cell_type": "code",
   "execution_count": 3,
   "id": "65241942-64a0-496a-a7f8-f3c38491223a",
   "metadata": {},
   "outputs": [
    {
     "name": "stdout",
     "output_type": "stream",
     "text": [
      "Hello World\n"
     ]
    }
   ],
   "source": [
    "print(\"Hello World\")"
   ]
  },
  {
   "cell_type": "code",
   "execution_count": 5,
   "id": "d8efeb59-61b9-47b9-bb2c-d74f1cadd031",
   "metadata": {},
   "outputs": [],
   "source": [
    "a = 10"
   ]
  },
  {
   "cell_type": "code",
   "execution_count": 7,
   "id": "e27684ac-91d5-427a-82ac-c8dac54750dd",
   "metadata": {},
   "outputs": [
    {
     "data": {
      "text/plain": [
       "10"
      ]
     },
     "execution_count": 7,
     "metadata": {},
     "output_type": "execute_result"
    }
   ],
   "source": [
    "a"
   ]
  },
  {
   "cell_type": "code",
   "execution_count": 9,
   "id": "d20300eb-16e1-4283-b041-ec29ca056276",
   "metadata": {},
   "outputs": [
    {
     "data": {
      "text/plain": [
       "int"
      ]
     },
     "execution_count": 9,
     "metadata": {},
     "output_type": "execute_result"
    }
   ],
   "source": [
    "type(a)"
   ]
  },
  {
   "cell_type": "code",
   "execution_count": 11,
   "id": "b78d1ba3-157e-4a8a-9353-96532ef51867",
   "metadata": {},
   "outputs": [],
   "source": [
    "a=\"labeeb\""
   ]
  },
  {
   "cell_type": "code",
   "execution_count": 13,
   "id": "74c4db20-bafe-4fce-8376-7ba580654dab",
   "metadata": {},
   "outputs": [
    {
     "data": {
      "text/plain": [
       "'labeeb'"
      ]
     },
     "execution_count": 13,
     "metadata": {},
     "output_type": "execute_result"
    }
   ],
   "source": [
    "a"
   ]
  },
  {
   "cell_type": "code",
   "execution_count": 15,
   "id": "644acb83-683a-4c0c-9ced-937c78a0b769",
   "metadata": {},
   "outputs": [
    {
     "data": {
      "text/plain": [
       "str"
      ]
     },
     "execution_count": 15,
     "metadata": {},
     "output_type": "execute_result"
    }
   ],
   "source": [
    "type(a)\n"
   ]
  },
  {
   "cell_type": "code",
   "execution_count": 17,
   "id": "9400b9d4-f0f0-4948-bf0e-d471055cb9b6",
   "metadata": {},
   "outputs": [
    {
     "name": "stdout",
     "output_type": "stream",
     "text": [
      "labeeb\n"
     ]
    }
   ],
   "source": [
    "print(a)"
   ]
  },
  {
   "cell_type": "code",
   "execution_count": 19,
   "id": "e915eb4b-fc5f-4c9b-aa42-15c501c17eb9",
   "metadata": {},
   "outputs": [],
   "source": [
    "b = \"mir\""
   ]
  },
  {
   "cell_type": "code",
   "execution_count": 21,
   "id": "fbd2f2fe-733d-459a-ad94-a43f24392829",
   "metadata": {},
   "outputs": [
    {
     "data": {
      "text/plain": [
       "'mir'"
      ]
     },
     "execution_count": 21,
     "metadata": {},
     "output_type": "execute_result"
    }
   ],
   "source": [
    "b"
   ]
  },
  {
   "cell_type": "code",
   "execution_count": 23,
   "id": "9ab2c340-99d1-42d5-ab9d-c255e1d95e8f",
   "metadata": {},
   "outputs": [
    {
     "name": "stdout",
     "output_type": "stream",
     "text": [
      "labeeb mir\n"
     ]
    }
   ],
   "source": [
    "print(a,b)"
   ]
  },
  {
   "cell_type": "code",
   "execution_count": 25,
   "id": "aefa16be-13f3-4e96-88c5-1db9090e9d91",
   "metadata": {},
   "outputs": [],
   "source": [
    "a,b,c=\"labeeb\", \"mir\", 10"
   ]
  },
  {
   "cell_type": "code",
   "execution_count": 27,
   "id": "e3f5a334-cf43-478c-bcdb-31cdae63c8a9",
   "metadata": {},
   "outputs": [
    {
     "name": "stdout",
     "output_type": "stream",
     "text": [
      "labeeb mir 10\n"
     ]
    }
   ],
   "source": [
    "print(a,b,c)"
   ]
  },
  {
   "cell_type": "code",
   "execution_count": 29,
   "id": "27d8e72e-a944-40f1-aa21-dce60b7c39c3",
   "metadata": {},
   "outputs": [],
   "source": [
    "c1=10"
   ]
  },
  {
   "cell_type": "code",
   "execution_count": 35,
   "id": "190020b2-9268-4969-a170-afc0d29a1ec0",
   "metadata": {},
   "outputs": [],
   "source": [
    "#1c=20  //invalid name"
   ]
  },
  {
   "cell_type": "code",
   "execution_count": 37,
   "id": "891fa168-43de-4a96-9866-90d8aceb8e23",
   "metadata": {},
   "outputs": [
    {
     "ename": "NameError",
     "evalue": "name 'true' is not defined",
     "output_type": "error",
     "traceback": [
      "\u001b[1;31m---------------------------------------------------------------------------\u001b[0m",
      "\u001b[1;31mNameError\u001b[0m                                 Traceback (most recent call last)",
      "\u001b[1;32m~\\AppData\\Local\\Temp\\ipykernel_23456\\3578504230.py\u001b[0m in \u001b[0;36m<module>\u001b[1;34m\u001b[0m\n\u001b[1;32m----> 1\u001b[1;33m \u001b[0mc\u001b[0m\u001b[1;33m=\u001b[0m\u001b[0mtrue\u001b[0m\u001b[1;33m\u001b[0m\u001b[1;33m\u001b[0m\u001b[0m\n\u001b[0m",
      "\u001b[1;31mNameError\u001b[0m: name 'true' is not defined"
     ]
    }
   ],
   "source": [
    "c=true"
   ]
  },
  {
   "cell_type": "code",
   "execution_count": 39,
   "id": "0e430e1a-7f6d-434f-a599-dc2dc715789d",
   "metadata": {},
   "outputs": [
    {
     "ename": "SyntaxError",
     "evalue": "invalid syntax (2788536269.py, line 1)",
     "output_type": "error",
     "traceback": [
      "\u001b[1;36m  File \u001b[1;32m\"C:\\Users\\labee\\AppData\\Local\\Temp\\ipykernel_23456\\2788536269.py\"\u001b[1;36m, line \u001b[1;32m1\u001b[0m\n\u001b[1;33m    bool c = true\u001b[0m\n\u001b[1;37m         ^\u001b[0m\n\u001b[1;31mSyntaxError\u001b[0m\u001b[1;31m:\u001b[0m invalid syntax\n"
     ]
    }
   ],
   "source": [
    "bool c = true"
   ]
  },
  {
   "cell_type": "code",
   "execution_count": 41,
   "id": "afd4a6b5-5e5c-4e3a-9af1-cfca73fa19da",
   "metadata": {},
   "outputs": [],
   "source": [
    "c=True"
   ]
  },
  {
   "cell_type": "code",
   "execution_count": 43,
   "id": "ff3a4d1e-6e8d-4e53-984f-d09f5f8b833b",
   "metadata": {},
   "outputs": [
    {
     "data": {
      "text/plain": [
       "bool"
      ]
     },
     "execution_count": 43,
     "metadata": {},
     "output_type": "execute_result"
    }
   ],
   "source": [
    "type(c)"
   ]
  },
  {
   "cell_type": "code",
   "execution_count": 45,
   "id": "7c856e17-440d-49a2-9e85-186b7f647a44",
   "metadata": {},
   "outputs": [
    {
     "name": "stdout",
     "output_type": "stream",
     "text": [
      "1\n"
     ]
    }
   ],
   "source": [
    "print(True+False)#1+0=1"
   ]
  },
  {
   "cell_type": "code",
   "execution_count": 47,
   "id": "70021abc-79d6-4e02-99c3-729a4d3c20b8",
   "metadata": {},
   "outputs": [
    {
     "data": {
      "text/plain": [
       "1.0"
      ]
     },
     "execution_count": 47,
     "metadata": {},
     "output_type": "execute_result"
    }
   ],
   "source": [
    "True/True"
   ]
  },
  {
   "cell_type": "code",
   "execution_count": 49,
   "id": "2e122b4e-b2d0-47db-92ff-1bdd70480348",
   "metadata": {},
   "outputs": [
    {
     "data": {
      "text/plain": [
       "0.0"
      ]
     },
     "execution_count": 49,
     "metadata": {},
     "output_type": "execute_result"
    }
   ],
   "source": [
    "False/True"
   ]
  },
  {
   "cell_type": "code",
   "execution_count": 51,
   "id": "f5f728a8-bb25-48fc-9364-bdd217ceae58",
   "metadata": {},
   "outputs": [
    {
     "ename": "ZeroDivisionError",
     "evalue": "division by zero",
     "output_type": "error",
     "traceback": [
      "\u001b[1;31m---------------------------------------------------------------------------\u001b[0m",
      "\u001b[1;31mZeroDivisionError\u001b[0m                         Traceback (most recent call last)",
      "\u001b[1;32m~\\AppData\\Local\\Temp\\ipykernel_23456\\2794436645.py\u001b[0m in \u001b[0;36m<module>\u001b[1;34m\u001b[0m\n\u001b[1;32m----> 1\u001b[1;33m \u001b[1;32mTrue\u001b[0m\u001b[1;33m/\u001b[0m\u001b[1;32mFalse\u001b[0m\u001b[1;33m\u001b[0m\u001b[1;33m\u001b[0m\u001b[0m\n\u001b[0m",
      "\u001b[1;31mZeroDivisionError\u001b[0m: division by zero"
     ]
    }
   ],
   "source": [
    "True/False"
   ]
  },
  {
   "cell_type": "code",
   "execution_count": 53,
   "id": "a3de5f90-60e8-4d15-addc-37cb7723473e",
   "metadata": {},
   "outputs": [],
   "source": [
    "q=45+60j"
   ]
  },
  {
   "cell_type": "code",
   "execution_count": 55,
   "id": "88350004-6ece-4eca-9ab1-75f4858328dd",
   "metadata": {},
   "outputs": [
    {
     "data": {
      "text/plain": [
       "(45+60j)"
      ]
     },
     "execution_count": 55,
     "metadata": {},
     "output_type": "execute_result"
    }
   ],
   "source": [
    "q"
   ]
  },
  {
   "cell_type": "code",
   "execution_count": 57,
   "id": "0530ee98-647d-4d20-ac09-aed8c9744cfb",
   "metadata": {},
   "outputs": [
    {
     "data": {
      "text/plain": [
       "complex"
      ]
     },
     "execution_count": 57,
     "metadata": {},
     "output_type": "execute_result"
    }
   ],
   "source": [
    "type(q)"
   ]
  },
  {
   "cell_type": "code",
   "execution_count": 59,
   "id": "a58f174a-15a0-4129-85cd-a9130c9bb055",
   "metadata": {},
   "outputs": [],
   "source": [
    "w = 45+22"
   ]
  },
  {
   "cell_type": "code",
   "execution_count": 61,
   "id": "e9a93e8e-da2a-4b2a-8da6-258e9e10f539",
   "metadata": {},
   "outputs": [
    {
     "data": {
      "text/plain": [
       "67"
      ]
     },
     "execution_count": 61,
     "metadata": {},
     "output_type": "execute_result"
    }
   ],
   "source": [
    "w"
   ]
  },
  {
   "cell_type": "code",
   "execution_count": 63,
   "id": "2d088ed0-1b13-44ce-a71f-94ffc2c7cc98",
   "metadata": {},
   "outputs": [
    {
     "data": {
      "text/plain": [
       "int"
      ]
     },
     "execution_count": 63,
     "metadata": {},
     "output_type": "execute_result"
    }
   ],
   "source": [
    "type(w)"
   ]
  },
  {
   "cell_type": "markdown",
   "id": "b4058116-77e2-41da-a4fa-66ac54ee5a64",
   "metadata": {},
   "source": [
    "Strings\n"
   ]
  },
  {
   "cell_type": "code",
   "execution_count": 68,
   "id": "a9e2e748-b8d2-480e-9764-18e34d2f93cb",
   "metadata": {},
   "outputs": [],
   "source": [
    "a=\"labeeb\""
   ]
  },
  {
   "cell_type": "code",
   "execution_count": 70,
   "id": "037fc8f3-3309-41c0-b6a6-882ea7a26acf",
   "metadata": {},
   "outputs": [],
   "source": [
    "b=\"mir\""
   ]
  },
  {
   "cell_type": "code",
   "execution_count": 72,
   "id": "d4c6c9b7-8f28-412b-9d3e-f535806399a0",
   "metadata": {},
   "outputs": [
    {
     "data": {
      "text/plain": [
       "str"
      ]
     },
     "execution_count": 72,
     "metadata": {},
     "output_type": "execute_result"
    }
   ],
   "source": [
    "type(b)"
   ]
  },
  {
   "cell_type": "code",
   "execution_count": 74,
   "id": "33a88b9e-c9a2-4f9e-9371-9e8a2532035e",
   "metadata": {},
   "outputs": [
    {
     "data": {
      "text/plain": [
       "'labeebmir'"
      ]
     },
     "execution_count": 74,
     "metadata": {},
     "output_type": "execute_result"
    }
   ],
   "source": [
    "a+b"
   ]
  },
  {
   "cell_type": "code",
   "execution_count": 76,
   "id": "ef5f9648-ed8e-475c-8f93-4ebaa33a8d1c",
   "metadata": {},
   "outputs": [
    {
     "ename": "TypeError",
     "evalue": "can only concatenate str (not \"int\") to str",
     "output_type": "error",
     "traceback": [
      "\u001b[1;31m---------------------------------------------------------------------------\u001b[0m",
      "\u001b[1;31mTypeError\u001b[0m                                 Traceback (most recent call last)",
      "\u001b[1;32m~\\AppData\\Local\\Temp\\ipykernel_23456\\4093587236.py\u001b[0m in \u001b[0;36m<module>\u001b[1;34m\u001b[0m\n\u001b[1;32m----> 1\u001b[1;33m \u001b[0ma\u001b[0m\u001b[1;33m+\u001b[0m\u001b[1;36m1\u001b[0m\u001b[1;33m\u001b[0m\u001b[1;33m\u001b[0m\u001b[0m\n\u001b[0m",
      "\u001b[1;31mTypeError\u001b[0m: can only concatenate str (not \"int\") to str"
     ]
    }
   ],
   "source": [
    "a+1"
   ]
  },
  {
   "cell_type": "code",
   "execution_count": 78,
   "id": "3279c950-7ca9-4da9-a20f-5023ec5903dc",
   "metadata": {},
   "outputs": [
    {
     "data": {
      "text/plain": [
       "'labeeb1'"
      ]
     },
     "execution_count": 78,
     "metadata": {},
     "output_type": "execute_result"
    }
   ],
   "source": [
    "a+\"1\""
   ]
  },
  {
   "cell_type": "code",
   "execution_count": 80,
   "id": "ef074b1a-73b8-4dad-b531-785cdc795105",
   "metadata": {},
   "outputs": [
    {
     "data": {
      "text/plain": [
       "'labeeblabeeblabeeblabeeb'"
      ]
     },
     "execution_count": 80,
     "metadata": {},
     "output_type": "execute_result"
    }
   ],
   "source": [
    "\"labeeb\"*4"
   ]
  },
  {
   "cell_type": "code",
   "execution_count": 86,
   "id": "ee5fc370-0779-4b89-8c66-5d015ce688a2",
   "metadata": {},
   "outputs": [
    {
     "data": {
      "text/plain": [
       "1"
      ]
     },
     "execution_count": 86,
     "metadata": {},
     "output_type": "execute_result"
    }
   ],
   "source": [
    "int(\"1\")"
   ]
  },
  {
   "cell_type": "code",
   "execution_count": 88,
   "id": "9b7bd31c-6056-4e6d-8cb8-0586d2e52312",
   "metadata": {},
   "outputs": [
    {
     "data": {
      "text/plain": [
       "10"
      ]
     },
     "execution_count": 88,
     "metadata": {},
     "output_type": "execute_result"
    }
   ],
   "source": [
    "int(\"10\")"
   ]
  },
  {
   "cell_type": "code",
   "execution_count": 90,
   "id": "7c335678-cb2d-4750-87df-6f33bb9c4880",
   "metadata": {},
   "outputs": [
    {
     "ename": "ValueError",
     "evalue": "invalid literal for int() with base 10: 'a'",
     "output_type": "error",
     "traceback": [
      "\u001b[1;31m---------------------------------------------------------------------------\u001b[0m",
      "\u001b[1;31mValueError\u001b[0m                                Traceback (most recent call last)",
      "\u001b[1;32m~\\AppData\\Local\\Temp\\ipykernel_23456\\3221825202.py\u001b[0m in \u001b[0;36m<module>\u001b[1;34m\u001b[0m\n\u001b[1;32m----> 1\u001b[1;33m \u001b[0mint\u001b[0m\u001b[1;33m(\u001b[0m\u001b[1;34m\"a\"\u001b[0m\u001b[1;33m)\u001b[0m\u001b[1;33m\u001b[0m\u001b[1;33m\u001b[0m\u001b[0m\n\u001b[0m",
      "\u001b[1;31mValueError\u001b[0m: invalid literal for int() with base 10: 'a'"
     ]
    }
   ],
   "source": [
    "int(\"a\")"
   ]
  },
  {
   "cell_type": "code",
   "execution_count": 92,
   "id": "8aea7d34-d8d1-4987-93f0-aa058a70e430",
   "metadata": {},
   "outputs": [],
   "source": [
    "mn = int(\"1\")"
   ]
  },
  {
   "cell_type": "code",
   "execution_count": 94,
   "id": "fe5a4c39-1311-4540-9352-a00fbba4be96",
   "metadata": {},
   "outputs": [
    {
     "data": {
      "text/plain": [
       "1"
      ]
     },
     "execution_count": 94,
     "metadata": {},
     "output_type": "execute_result"
    }
   ],
   "source": [
    "mn"
   ]
  },
  {
   "cell_type": "code",
   "execution_count": 96,
   "id": "cd196127-2772-4bb0-8661-0d1f26e83241",
   "metadata": {},
   "outputs": [
    {
     "data": {
      "text/plain": [
       "int"
      ]
     },
     "execution_count": 96,
     "metadata": {},
     "output_type": "execute_result"
    }
   ],
   "source": [
    "type(mn)"
   ]
  },
  {
   "cell_type": "code",
   "execution_count": 100,
   "id": "9f8967ca-baf9-4730-8382-e32ee3f3b50b",
   "metadata": {},
   "outputs": [
    {
     "name": "stdin",
     "output_type": "stream",
     "text": [
      "Enter the value of xyz 123\n"
     ]
    }
   ],
   "source": [
    "xyz=input(\"Enter the value of xyz\")"
   ]
  },
  {
   "cell_type": "code",
   "execution_count": 102,
   "id": "c23e1cf5-fa5e-4ed0-ab60-9624f67ffeac",
   "metadata": {},
   "outputs": [
    {
     "data": {
      "text/plain": [
       "str"
      ]
     },
     "execution_count": 102,
     "metadata": {},
     "output_type": "execute_result"
    }
   ],
   "source": [
    "type(xyz)"
   ]
  },
  {
   "cell_type": "code",
   "execution_count": 104,
   "id": "12bd7da1-742a-4387-ba00-0ea9c82a8e5d",
   "metadata": {},
   "outputs": [
    {
     "data": {
      "text/plain": [
       "123"
      ]
     },
     "execution_count": 104,
     "metadata": {},
     "output_type": "execute_result"
    }
   ],
   "source": [
    "int(xyz)"
   ]
  },
  {
   "cell_type": "code",
   "execution_count": 106,
   "id": "e9e81852-344e-41e6-b8df-6543a61653e9",
   "metadata": {},
   "outputs": [
    {
     "data": {
      "text/plain": [
       "str"
      ]
     },
     "execution_count": 106,
     "metadata": {},
     "output_type": "execute_result"
    }
   ],
   "source": [
    "type(xyz)"
   ]
  },
  {
   "cell_type": "code",
   "execution_count": 108,
   "id": "19e26b08-5225-4f7c-b449-99c5f1485d4a",
   "metadata": {},
   "outputs": [],
   "source": [
    "xyz = int(xyz)"
   ]
  },
  {
   "cell_type": "code",
   "execution_count": 110,
   "id": "82ed84ca-14ab-4d86-86ec-320b00736fb6",
   "metadata": {},
   "outputs": [
    {
     "data": {
      "text/plain": [
       "int"
      ]
     },
     "execution_count": 110,
     "metadata": {},
     "output_type": "execute_result"
    }
   ],
   "source": [
    "type(xyz)"
   ]
  },
  {
   "cell_type": "code",
   "execution_count": 112,
   "id": "0b6d1353-2c31-4f17-92de-1a39c9a232e3",
   "metadata": {},
   "outputs": [
    {
     "name": "stdin",
     "output_type": "stream",
     "text": [
      "Enter the value 234\n"
     ]
    }
   ],
   "source": [
    "abc=int(input(\"Enter the value\"))"
   ]
  },
  {
   "cell_type": "code",
   "execution_count": 114,
   "id": "70a59419-0b32-44d9-9fe8-9db9425036e5",
   "metadata": {},
   "outputs": [
    {
     "data": {
      "text/plain": [
       "int"
      ]
     },
     "execution_count": 114,
     "metadata": {},
     "output_type": "execute_result"
    }
   ],
   "source": [
    "type(abc)"
   ]
  },
  {
   "cell_type": "code",
   "execution_count": 118,
   "id": "1ca35c71-2446-458e-b1f7-9317c104e41e",
   "metadata": {},
   "outputs": [
    {
     "name": "stdin",
     "output_type": "stream",
     "text": [
      "Enter value of a  2\n",
      "Enter the value of b 3\n"
     ]
    },
    {
     "name": "stdout",
     "output_type": "stream",
     "text": [
      "5\n"
     ]
    },
    {
     "data": {
      "text/plain": [
       "int"
      ]
     },
     "execution_count": 118,
     "metadata": {},
     "output_type": "execute_result"
    }
   ],
   "source": [
    "a = int(input(\"Enter value of a \"))\n",
    "b = int(input(\"Enter the value of b\"))\n",
    "c = a+b\n",
    "print(c);\n",
    "type(c)"
   ]
  },
  {
   "cell_type": "code",
   "execution_count": 122,
   "id": "fe96428f-1ae9-4acc-b15d-a7895708a6a3",
   "metadata": {},
   "outputs": [
    {
     "name": "stdin",
     "output_type": "stream",
     "text": [
      "Enter value of a  11\n",
      "Enter the value of b 88\n",
      "Enter the value of c 55\n"
     ]
    },
    {
     "data": {
      "text/plain": [
       "-22"
      ]
     },
     "execution_count": 122,
     "metadata": {},
     "output_type": "execute_result"
    }
   ],
   "source": [
    "a = int(input(\"Enter value of a \"))\n",
    "b = int(input(\"Enter the value of b\"))\n",
    "c = int(input(\"Enter the value of c\"))\n",
    "a,b,c\n",
    "a+b/c\n",
    "a-b+c #only value of the last line will be printed"
   ]
  },
  {
   "cell_type": "code",
   "execution_count": 124,
   "id": "5d2dd128-0bd9-4a9e-be6a-0b770bd39ecd",
   "metadata": {},
   "outputs": [
    {
     "name": "stdout",
     "output_type": "stream",
     "text": [
      "11 88 55\n"
     ]
    }
   ],
   "source": [
    "print(a,b,c)"
   ]
  },
  {
   "cell_type": "code",
   "execution_count": null,
   "id": "e2c95658-d60d-459f-be5d-aa3c0e60a5e5",
   "metadata": {},
   "outputs": [],
   "source": []
  }
 ],
 "metadata": {
  "kernelspec": {
   "display_name": "Python [conda env:Anaconda3]",
   "language": "python",
   "name": "conda-env-Anaconda3-py"
  },
  "language_info": {
   "codemirror_mode": {
    "name": "ipython",
    "version": 3
   },
   "file_extension": ".py",
   "mimetype": "text/x-python",
   "name": "python",
   "nbconvert_exporter": "python",
   "pygments_lexer": "ipython3",
   "version": "3.9.16"
  }
 },
 "nbformat": 4,
 "nbformat_minor": 5
}
