{
 "cells": [
  {
   "cell_type": "markdown",
   "id": "a6f250e3-0f96-424a-937b-c9e407517ef4",
   "metadata": {},
   "source": [
    "List\n"
   ]
  },
  {
   "cell_type": "code",
   "execution_count": 2,
   "id": "a7daa6f5-8074-4cce-88dd-e938ac74ce61",
   "metadata": {},
   "outputs": [],
   "source": [
    "l1=[]"
   ]
  },
  {
   "cell_type": "code",
   "execution_count": 4,
   "id": "c861d641-51f3-4de1-a4f7-602bc6da4a67",
   "metadata": {},
   "outputs": [
    {
     "data": {
      "text/plain": [
       "list"
      ]
     },
     "execution_count": 4,
     "metadata": {},
     "output_type": "execute_result"
    }
   ],
   "source": [
    "type(l1)"
   ]
  },
  {
   "cell_type": "code",
   "execution_count": 6,
   "id": "2b233be1-cf47-4f26-8439-1c37d1595bd1",
   "metadata": {},
   "outputs": [],
   "source": [
    "l2=[\"labeeb\", \"mir\", 1,2,3,4,4.0]"
   ]
  },
  {
   "cell_type": "code",
   "execution_count": 8,
   "id": "f4630792-1997-4a1a-ac86-a2da92d9296e",
   "metadata": {},
   "outputs": [
    {
     "data": {
      "text/plain": [
       "['labeeb', 'mir', 1, 2, 3, 4, 4.0]"
      ]
     },
     "execution_count": 8,
     "metadata": {},
     "output_type": "execute_result"
    }
   ],
   "source": [
    "l2"
   ]
  },
  {
   "cell_type": "code",
   "execution_count": 10,
   "id": "b9c67d8f-5f8d-4fcc-8eee-962233445fd3",
   "metadata": {},
   "outputs": [
    {
     "data": {
      "text/plain": [
       "'labeeb'"
      ]
     },
     "execution_count": 10,
     "metadata": {},
     "output_type": "execute_result"
    }
   ],
   "source": [
    "l2[-7]"
   ]
  },
  {
   "cell_type": "markdown",
   "id": "e1a19013-535b-4887-bb63-968d96fcb066",
   "metadata": {},
   "source": [
    "Slicing on list"
   ]
  },
  {
   "cell_type": "code",
   "execution_count": 13,
   "id": "95cda991-8ccf-45e9-b330-0052c3645462",
   "metadata": {},
   "outputs": [
    {
     "data": {
      "text/plain": [
       "['labeeb']"
      ]
     },
     "execution_count": 13,
     "metadata": {},
     "output_type": "execute_result"
    }
   ],
   "source": [
    "l2[0:1]"
   ]
  },
  {
   "cell_type": "code",
   "execution_count": 15,
   "id": "c74b0ced-a398-4b43-85a3-b3b1d4e0cee3",
   "metadata": {},
   "outputs": [
    {
     "data": {
      "text/plain": [
       "['labeeb', 'mir']"
      ]
     },
     "execution_count": 15,
     "metadata": {},
     "output_type": "execute_result"
    }
   ],
   "source": [
    "l2[0:2] #[index of first element: index of last element +1]"
   ]
  },
  {
   "cell_type": "code",
   "execution_count": 17,
   "id": "8c951ee1-4491-40b6-babb-3d7eb80d16cd",
   "metadata": {},
   "outputs": [
    {
     "data": {
      "text/plain": [
       "['labeeb', 'mir', 1, 2, 3, 4, 4.0]"
      ]
     },
     "execution_count": 17,
     "metadata": {},
     "output_type": "execute_result"
    }
   ],
   "source": [
    "l2[ : ]"
   ]
  },
  {
   "cell_type": "code",
   "execution_count": 19,
   "id": "d033bb2d-39c3-4798-b930-2eb5f7241160",
   "metadata": {},
   "outputs": [
    {
     "data": {
      "text/plain": [
       "['labeeb', 'mir', 1, 2, 3, 4]"
      ]
     },
     "execution_count": 19,
     "metadata": {},
     "output_type": "execute_result"
    }
   ],
   "source": [
    "l2[0:6]"
   ]
  },
  {
   "cell_type": "code",
   "execution_count": 21,
   "id": "68e23e3e-758c-4ff5-9c07-35d4fe61eb98",
   "metadata": {},
   "outputs": [
    {
     "data": {
      "text/plain": [
       "['labeeb', 'mir', 1, 2, 3, 4]"
      ]
     },
     "execution_count": 21,
     "metadata": {},
     "output_type": "execute_result"
    }
   ],
   "source": [
    "l2[:6]"
   ]
  },
  {
   "cell_type": "code",
   "execution_count": 23,
   "id": "8cccc308-c19b-477b-a461-629211baeac8",
   "metadata": {},
   "outputs": [
    {
     "data": {
      "text/plain": [
       "[2, 3, 4, 4.0]"
      ]
     },
     "execution_count": 23,
     "metadata": {},
     "output_type": "execute_result"
    }
   ],
   "source": [
    "l2[3:]"
   ]
  },
  {
   "cell_type": "code",
   "execution_count": 25,
   "id": "911e92dd-39b2-41d6-ad12-857eaf0fcb84",
   "metadata": {},
   "outputs": [
    {
     "data": {
      "text/plain": [
       "list"
      ]
     },
     "execution_count": 25,
     "metadata": {},
     "output_type": "execute_result"
    }
   ],
   "source": [
    "type(l2[2:5])"
   ]
  },
  {
   "cell_type": "code",
   "execution_count": 27,
   "id": "31c37a39-1880-4a35-814e-117557fbf9ca",
   "metadata": {},
   "outputs": [
    {
     "data": {
      "text/plain": [
       "[4.0]"
      ]
     },
     "execution_count": 27,
     "metadata": {},
     "output_type": "execute_result"
    }
   ],
   "source": [
    "l2[-1:]"
   ]
  },
  {
   "cell_type": "code",
   "execution_count": 29,
   "id": "ad52bc0b-a993-4443-8e6e-40807b2a2625",
   "metadata": {},
   "outputs": [
    {
     "data": {
      "text/plain": [
       "['labeeb', 'mir', 1, 2, 3, 4]"
      ]
     },
     "execution_count": 29,
     "metadata": {},
     "output_type": "execute_result"
    }
   ],
   "source": [
    "l2[:-1]"
   ]
  },
  {
   "cell_type": "code",
   "execution_count": 31,
   "id": "a04d4ff7-ec0b-4793-b052-442db8dc23b3",
   "metadata": {},
   "outputs": [
    {
     "data": {
      "text/plain": [
       "[]"
      ]
     },
     "execution_count": 31,
     "metadata": {},
     "output_type": "execute_result"
    }
   ],
   "source": [
    "l2[:0]"
   ]
  },
  {
   "cell_type": "markdown",
   "id": "e641c997-8082-4b76-8535-b6206288dbf2",
   "metadata": {},
   "source": [
    "nested list"
   ]
  },
  {
   "cell_type": "code",
   "execution_count": 34,
   "id": "50edc9bf-e8b5-4c4f-b384-d4d687ab237c",
   "metadata": {},
   "outputs": [],
   "source": [
    "l3=[1,2,3,4,[11,12,13]]"
   ]
  },
  {
   "cell_type": "code",
   "execution_count": 36,
   "id": "841da3a5-349d-44ac-a127-76bd430b8d07",
   "metadata": {},
   "outputs": [
    {
     "data": {
      "text/plain": [
       "list"
      ]
     },
     "execution_count": 36,
     "metadata": {},
     "output_type": "execute_result"
    }
   ],
   "source": [
    "type(l3)"
   ]
  },
  {
   "cell_type": "code",
   "execution_count": 38,
   "id": "51786328-0006-4158-834f-d2ff9678b820",
   "metadata": {},
   "outputs": [
    {
     "data": {
      "text/plain": [
       "[1, 2, 3, 4, [11, 12, 13]]"
      ]
     },
     "execution_count": 38,
     "metadata": {},
     "output_type": "execute_result"
    }
   ],
   "source": [
    "l3"
   ]
  },
  {
   "cell_type": "code",
   "execution_count": 40,
   "id": "f3336407-890c-4eb2-86f0-9dbf540d7cd5",
   "metadata": {},
   "outputs": [
    {
     "data": {
      "text/plain": [
       "[11, 12, 13]"
      ]
     },
     "execution_count": 40,
     "metadata": {},
     "output_type": "execute_result"
    }
   ],
   "source": [
    "l3[4]"
   ]
  },
  {
   "cell_type": "code",
   "execution_count": 42,
   "id": "72a567a5-801b-4129-8384-1dc756a1cdcb",
   "metadata": {},
   "outputs": [
    {
     "data": {
      "text/plain": [
       "list"
      ]
     },
     "execution_count": 42,
     "metadata": {},
     "output_type": "execute_result"
    }
   ],
   "source": [
    "type(l3[4])"
   ]
  },
  {
   "cell_type": "code",
   "execution_count": 44,
   "id": "0798b2d6-55e3-4ba0-b7e6-0f5ae84712e2",
   "metadata": {},
   "outputs": [
    {
     "data": {
      "text/plain": [
       "int"
      ]
     },
     "execution_count": 44,
     "metadata": {},
     "output_type": "execute_result"
    }
   ],
   "source": [
    "type(l3[1])"
   ]
  },
  {
   "cell_type": "code",
   "execution_count": 46,
   "id": "199784e4-2d22-44e6-a349-c91655bcbd31",
   "metadata": {},
   "outputs": [
    {
     "name": "stderr",
     "output_type": "stream",
     "text": [
      "<>:1: SyntaxWarning: 'int' object is not subscriptable; perhaps you missed a comma?\n",
      "<>:1: SyntaxWarning: 'int' object is not subscriptable; perhaps you missed a comma?\n",
      "C:\\Users\\labee\\AppData\\Local\\Temp\\ipykernel_29388\\1105574525.py:1: SyntaxWarning: 'int' object is not subscriptable; perhaps you missed a comma?\n",
      "  l3[4[1]]\n"
     ]
    },
    {
     "ename": "TypeError",
     "evalue": "'int' object is not subscriptable",
     "output_type": "error",
     "traceback": [
      "\u001b[1;31m---------------------------------------------------------------------------\u001b[0m",
      "\u001b[1;31mTypeError\u001b[0m                                 Traceback (most recent call last)",
      "\u001b[1;32m~\\AppData\\Local\\Temp\\ipykernel_29388\\1105574525.py\u001b[0m in \u001b[0;36m<module>\u001b[1;34m\u001b[0m\n\u001b[1;32m----> 1\u001b[1;33m \u001b[0ml3\u001b[0m\u001b[1;33m[\u001b[0m\u001b[1;36m4\u001b[0m\u001b[1;33m[\u001b[0m\u001b[1;36m1\u001b[0m\u001b[1;33m]\u001b[0m\u001b[1;33m]\u001b[0m\u001b[1;33m\u001b[0m\u001b[1;33m\u001b[0m\u001b[0m\n\u001b[0m",
      "\u001b[1;31mTypeError\u001b[0m: 'int' object is not subscriptable"
     ]
    }
   ],
   "source": [
    "l3[4[1]]"
   ]
  },
  {
   "cell_type": "code",
   "execution_count": 48,
   "id": "a0ffedda-2cc6-4746-afec-fd76a35121ce",
   "metadata": {},
   "outputs": [
    {
     "ename": "TypeError",
     "evalue": "list indices must be integers or slices, not tuple",
     "output_type": "error",
     "traceback": [
      "\u001b[1;31m---------------------------------------------------------------------------\u001b[0m",
      "\u001b[1;31mTypeError\u001b[0m                                 Traceback (most recent call last)",
      "\u001b[1;32m~\\AppData\\Local\\Temp\\ipykernel_29388\\2261993699.py\u001b[0m in \u001b[0;36m<module>\u001b[1;34m\u001b[0m\n\u001b[1;32m----> 1\u001b[1;33m \u001b[0ml3\u001b[0m\u001b[1;33m[\u001b[0m\u001b[1;36m4\u001b[0m\u001b[1;33m,\u001b[0m\u001b[1;36m1\u001b[0m\u001b[1;33m]\u001b[0m\u001b[1;33m\u001b[0m\u001b[1;33m\u001b[0m\u001b[0m\n\u001b[0m",
      "\u001b[1;31mTypeError\u001b[0m: list indices must be integers or slices, not tuple"
     ]
    }
   ],
   "source": [
    "l3[4,1]"
   ]
  },
  {
   "cell_type": "code",
   "execution_count": 50,
   "id": "5b8b1ef9-f5ae-4350-a9c0-33b68212ffbf",
   "metadata": {},
   "outputs": [
    {
     "data": {
      "text/plain": [
       "11"
      ]
     },
     "execution_count": 50,
     "metadata": {},
     "output_type": "execute_result"
    }
   ],
   "source": [
    "l3[4][0]"
   ]
  },
  {
   "cell_type": "code",
   "execution_count": 52,
   "id": "b2b6455f-1990-439e-a69b-624cbdde7536",
   "metadata": {},
   "outputs": [
    {
     "data": {
      "text/plain": [
       "12"
      ]
     },
     "execution_count": 52,
     "metadata": {},
     "output_type": "execute_result"
    }
   ],
   "source": [
    "l3[4][1]"
   ]
  },
  {
   "cell_type": "code",
   "execution_count": 54,
   "id": "cd0f284e-afaa-4e1f-819d-41f5c572139b",
   "metadata": {},
   "outputs": [
    {
     "data": {
      "text/plain": [
       "int"
      ]
     },
     "execution_count": 54,
     "metadata": {},
     "output_type": "execute_result"
    }
   ],
   "source": [
    "type(l3[4][1])"
   ]
  },
  {
   "cell_type": "code",
   "execution_count": null,
   "id": "ca8874e8-9a87-4a82-ba24-18eb057f443a",
   "metadata": {},
   "outputs": [],
   "source": []
  }
 ],
 "metadata": {
  "kernelspec": {
   "display_name": "Python [conda env:Anaconda3]",
   "language": "python",
   "name": "conda-env-Anaconda3-py"
  },
  "language_info": {
   "codemirror_mode": {
    "name": "ipython",
    "version": 3
   },
   "file_extension": ".py",
   "mimetype": "text/x-python",
   "name": "python",
   "nbconvert_exporter": "python",
   "pygments_lexer": "ipython3",
   "version": "3.9.16"
  }
 },
 "nbformat": 4,
 "nbformat_minor": 5
}
