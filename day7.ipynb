{
 "cells": [
  {
   "cell_type": "markdown",
   "id": "f1d39138-abe1-41ba-b35f-9b0fe4f8e407",
   "metadata": {},
   "source": [
    "Functions"
   ]
  },
  {
   "cell_type": "code",
   "execution_count": 2,
   "id": "970cdd04-96e7-4185-8080-9c0a33eebc3f",
   "metadata": {},
   "outputs": [],
   "source": [
    "#pre defined and user defined"
   ]
  },
  {
   "cell_type": "code",
   "execution_count": 4,
   "id": "e5bb0068-fcc3-4832-a75c-e10bd9fd9398",
   "metadata": {},
   "outputs": [],
   "source": [
    "def test():\n",
    "    pass"
   ]
  },
  {
   "cell_type": "code",
   "execution_count": 6,
   "id": "cfc81bd7-1c28-4740-8232-3f7f2dee7073",
   "metadata": {},
   "outputs": [],
   "source": [
    "def test1():\n",
    "    print(\"This is my first function in python\")"
   ]
  },
  {
   "cell_type": "code",
   "execution_count": 10,
   "id": "4856babd-40be-4b78-8dd5-748fbc03d0ae",
   "metadata": {},
   "outputs": [
    {
     "name": "stdout",
     "output_type": "stream",
     "text": [
      "This is my first function in python\n"
     ]
    }
   ],
   "source": [
    "test1() #calling the function"
   ]
  },
  {
   "cell_type": "code",
   "execution_count": 12,
   "id": "7cb8c66f-aca2-4e49-9cee-5d48c7497573",
   "metadata": {},
   "outputs": [
    {
     "data": {
      "text/plain": [
       "'labeebmir'"
      ]
     },
     "execution_count": 12,
     "metadata": {},
     "output_type": "execute_result"
    }
   ],
   "source": [
    "\"labeeb\" + \"mir\""
   ]
  },
  {
   "cell_type": "code",
   "execution_count": 14,
   "id": "a2657601-bd66-4c9a-a9e6-136ebe1528b5",
   "metadata": {},
   "outputs": [
    {
     "name": "stdout",
     "output_type": "stream",
     "text": [
      "This is my first function in python\n"
     ]
    },
    {
     "ename": "TypeError",
     "evalue": "unsupported operand type(s) for +: 'NoneType' and 'str'",
     "output_type": "error",
     "traceback": [
      "\u001b[1;31m---------------------------------------------------------------------------\u001b[0m",
      "\u001b[1;31mTypeError\u001b[0m                                 Traceback (most recent call last)",
      "\u001b[1;32m~\\AppData\\Local\\Temp\\ipykernel_20412\\3704735722.py\u001b[0m in \u001b[0;36m<module>\u001b[1;34m\u001b[0m\n\u001b[1;32m----> 1\u001b[1;33m \u001b[0mtest1\u001b[0m\u001b[1;33m(\u001b[0m\u001b[1;33m)\u001b[0m \u001b[1;33m+\u001b[0m \u001b[1;34m\"labeeb\"\u001b[0m\u001b[1;33m\u001b[0m\u001b[1;33m\u001b[0m\u001b[0m\n\u001b[0m",
      "\u001b[1;31mTypeError\u001b[0m: unsupported operand type(s) for +: 'NoneType' and 'str'"
     ]
    }
   ],
   "source": [
    "test1() + \"labeeb\""
   ]
  },
  {
   "cell_type": "code",
   "execution_count": 16,
   "id": "ffa184ad-ebce-4bbf-88ce-b19805144387",
   "metadata": {},
   "outputs": [
    {
     "name": "stdout",
     "output_type": "stream",
     "text": [
      "This is my first function in python\n"
     ]
    },
    {
     "data": {
      "text/plain": [
       "NoneType"
      ]
     },
     "execution_count": 16,
     "metadata": {},
     "output_type": "execute_result"
    }
   ],
   "source": [
    "type(test1())"
   ]
  },
  {
   "cell_type": "code",
   "execution_count": 18,
   "id": "b704844a-edc6-4582-a6f3-6b4ed4ffc86f",
   "metadata": {},
   "outputs": [
    {
     "name": "stdout",
     "output_type": "stream",
     "text": [
      "This is my first function in python\n"
     ]
    }
   ],
   "source": [
    "q = test1()"
   ]
  },
  {
   "cell_type": "code",
   "execution_count": 20,
   "id": "ddcc135b-1f99-4b57-b9f0-85d278a6ee03",
   "metadata": {},
   "outputs": [
    {
     "data": {
      "text/plain": [
       "NoneType"
      ]
     },
     "execution_count": 20,
     "metadata": {},
     "output_type": "execute_result"
    }
   ],
   "source": [
    "type(q)"
   ]
  },
  {
   "cell_type": "code",
   "execution_count": 22,
   "id": "cab9c145-da75-444e-ba69-01cc293eaf0c",
   "metadata": {},
   "outputs": [],
   "source": [
    "def test2():\n",
    "    return \"This is my first function in python\""
   ]
  },
  {
   "cell_type": "code",
   "execution_count": 24,
   "id": "4afa8224-2e9a-4b2d-8388-89eb491deece",
   "metadata": {},
   "outputs": [
    {
     "data": {
      "text/plain": [
       "'This is my first function in python'"
      ]
     },
     "execution_count": 24,
     "metadata": {},
     "output_type": "execute_result"
    }
   ],
   "source": [
    "test2()"
   ]
  },
  {
   "cell_type": "code",
   "execution_count": 26,
   "id": "0d135cdf-d055-4360-b456-08698d561042",
   "metadata": {},
   "outputs": [
    {
     "data": {
      "text/plain": [
       "function"
      ]
     },
     "execution_count": 26,
     "metadata": {},
     "output_type": "execute_result"
    }
   ],
   "source": [
    "type(test2)"
   ]
  },
  {
   "cell_type": "code",
   "execution_count": 28,
   "id": "d36cf4e7-c726-481d-8297-6b68aa2d2b97",
   "metadata": {},
   "outputs": [
    {
     "data": {
      "text/plain": [
       "'This is my first function in python Labeeb'"
      ]
     },
     "execution_count": 28,
     "metadata": {},
     "output_type": "execute_result"
    }
   ],
   "source": [
    "test2()+\" Labeeb\""
   ]
  },
  {
   "cell_type": "code",
   "execution_count": 30,
   "id": "5f7d5ae8-fedb-4152-a4a6-a606275e13a9",
   "metadata": {},
   "outputs": [
    {
     "data": {
      "text/plain": [
       "str"
      ]
     },
     "execution_count": 30,
     "metadata": {},
     "output_type": "execute_result"
    }
   ],
   "source": [
    "type(test2())"
   ]
  },
  {
   "cell_type": "code",
   "execution_count": 32,
   "id": "d83b7c2f-80bb-4e60-b1d0-9ae302770e36",
   "metadata": {},
   "outputs": [],
   "source": [
    "def test4():\n",
    "    return 1, \"Labeeb\", 5.5, [1,2,3], (2,3,4)"
   ]
  },
  {
   "cell_type": "code",
   "execution_count": 34,
   "id": "4fbf8022-b756-471a-9f55-c95f01bd20a6",
   "metadata": {},
   "outputs": [],
   "source": [
    "a = test4()"
   ]
  },
  {
   "cell_type": "code",
   "execution_count": 36,
   "id": "451a3385-cb89-40ff-be45-63ac1eeea1be",
   "metadata": {},
   "outputs": [
    {
     "data": {
      "text/plain": [
       "(1, 'Labeeb', 5.5, [1, 2, 3], (2, 3, 4))"
      ]
     },
     "execution_count": 36,
     "metadata": {},
     "output_type": "execute_result"
    }
   ],
   "source": [
    "a"
   ]
  },
  {
   "cell_type": "code",
   "execution_count": 38,
   "id": "ced04283-855a-42e9-bc10-53881a4ab0a0",
   "metadata": {},
   "outputs": [
    {
     "data": {
      "text/plain": [
       "tuple"
      ]
     },
     "execution_count": 38,
     "metadata": {},
     "output_type": "execute_result"
    }
   ],
   "source": [
    "type(a)"
   ]
  },
  {
   "cell_type": "code",
   "execution_count": 40,
   "id": "342f3049-9a26-4407-806c-e902b366f119",
   "metadata": {},
   "outputs": [],
   "source": [
    "a,b,c,d,e = 1,22,43,\"abc\",[22,55,77]"
   ]
  },
  {
   "cell_type": "code",
   "execution_count": 42,
   "id": "7955bb7b-6802-4f51-9073-3e4ec110ca65",
   "metadata": {},
   "outputs": [
    {
     "data": {
      "text/plain": [
       "(1, 22, 43)"
      ]
     },
     "execution_count": 42,
     "metadata": {},
     "output_type": "execute_result"
    }
   ],
   "source": [
    "a,b,c"
   ]
  },
  {
   "cell_type": "code",
   "execution_count": 46,
   "id": "b175a220-6c91-4ef0-b66c-35211f4fc09b",
   "metadata": {},
   "outputs": [
    {
     "data": {
      "text/plain": [
       "(1, 22, 43, 'abc', [22, 55, 77])"
      ]
     },
     "execution_count": 46,
     "metadata": {},
     "output_type": "execute_result"
    }
   ],
   "source": [
    "a,b,c,d,e"
   ]
  },
  {
   "cell_type": "code",
   "execution_count": 48,
   "id": "e5648132-40ad-4b49-aa95-44ceefe8d42d",
   "metadata": {},
   "outputs": [],
   "source": [
    "a,b,c,d,e=test4()"
   ]
  },
  {
   "cell_type": "code",
   "execution_count": 50,
   "id": "6c14b21f-ca47-416d-8d3c-434402deee47",
   "metadata": {},
   "outputs": [
    {
     "data": {
      "text/plain": [
       "1"
      ]
     },
     "execution_count": 50,
     "metadata": {},
     "output_type": "execute_result"
    }
   ],
   "source": [
    "a"
   ]
  },
  {
   "cell_type": "code",
   "execution_count": 52,
   "id": "ca7e8d6a-2dff-4e16-8e2c-fe8d24f80e48",
   "metadata": {},
   "outputs": [
    {
     "data": {
      "text/plain": [
       "5.5"
      ]
     },
     "execution_count": 52,
     "metadata": {},
     "output_type": "execute_result"
    }
   ],
   "source": [
    "c"
   ]
  },
  {
   "cell_type": "code",
   "execution_count": 54,
   "id": "36de293c-c2f0-4d8f-a5be-5bacceb672a0",
   "metadata": {},
   "outputs": [
    {
     "data": {
      "text/plain": [
       "(2, 3, 4)"
      ]
     },
     "execution_count": 54,
     "metadata": {},
     "output_type": "execute_result"
    }
   ],
   "source": [
    "e"
   ]
  },
  {
   "cell_type": "code",
   "execution_count": 56,
   "id": "714c4693-258a-4129-b6a9-a8f711008d52",
   "metadata": {},
   "outputs": [],
   "source": [
    "def test5():\n",
    "    a = (66+77)/8\n",
    "    return a"
   ]
  },
  {
   "cell_type": "code",
   "execution_count": 60,
   "id": "c3b27204-aee1-42b9-9e4b-49b97044b429",
   "metadata": {},
   "outputs": [
    {
     "data": {
      "text/plain": [
       "17.875"
      ]
     },
     "execution_count": 60,
     "metadata": {},
     "output_type": "execute_result"
    }
   ],
   "source": [
    "test5()"
   ]
  },
  {
   "cell_type": "code",
   "execution_count": 62,
   "id": "81ba715d-7e46-4803-bb1d-1659d2cca986",
   "metadata": {},
   "outputs": [],
   "source": [
    "#write a function to display all integer elements of a list"
   ]
  },
  {
   "cell_type": "code",
   "execution_count": 64,
   "id": "21b3b506-88e9-4d6d-b154-9644b58c2ca3",
   "metadata": {},
   "outputs": [],
   "source": [
    "l=[11,22,33,44,55,66,\"labeeb\",[44,1111,2222]]"
   ]
  },
  {
   "cell_type": "code",
   "execution_count": 78,
   "id": "bff22adb-0eae-4c3e-97ac-f785ae285384",
   "metadata": {},
   "outputs": [],
   "source": [
    "def test6(p):\n",
    "    for i in p:\n",
    "        if type(i)==int:\n",
    "            print(i)\n",
    "        elif type(i)==list:\n",
    "            for j in i:\n",
    "                print(j)\n",
    "        "
   ]
  },
  {
   "cell_type": "code",
   "execution_count": 80,
   "id": "b1e2ddbd-8f1f-47a6-bef5-8a6f8da754fe",
   "metadata": {},
   "outputs": [
    {
     "name": "stdout",
     "output_type": "stream",
     "text": [
      "11\n",
      "22\n",
      "33\n",
      "44\n",
      "55\n",
      "66\n",
      "44\n",
      "1111\n",
      "2222\n"
     ]
    }
   ],
   "source": [
    "test6(l)"
   ]
  },
  {
   "cell_type": "code",
   "execution_count": 85,
   "id": "5e674ebc-e690-4784-8922-8e075e193135",
   "metadata": {},
   "outputs": [],
   "source": [
    "def test66(p):\n",
    "    n=[]\n",
    "    if type(p) == list:\n",
    "        for i in p:\n",
    "            if type(i) == int:\n",
    "                n.append(i)\n",
    "    return n       "
   ]
  },
  {
   "cell_type": "code",
   "execution_count": 89,
   "id": "7e7700c8-ff0a-4ded-8369-af705072c64d",
   "metadata": {},
   "outputs": [
    {
     "data": {
      "text/plain": [
       "[11, 22, 33, 44, 55, 66]"
      ]
     },
     "execution_count": 89,
     "metadata": {},
     "output_type": "execute_result"
    }
   ],
   "source": [
    "test66(l)"
   ]
  },
  {
   "cell_type": "code",
   "execution_count": 91,
   "id": "5f5ef3c6-d6ed-4324-863d-d7c92e031b71",
   "metadata": {},
   "outputs": [],
   "source": [
    "qq=(2,33,44,33,55,66)"
   ]
  },
  {
   "cell_type": "code",
   "execution_count": 93,
   "id": "16dccc86-43c2-4a9f-bb43-a3ce9be5e3a5",
   "metadata": {},
   "outputs": [
    {
     "data": {
      "text/plain": [
       "[]"
      ]
     },
     "execution_count": 93,
     "metadata": {},
     "output_type": "execute_result"
    }
   ],
   "source": [
    "test66(qq)"
   ]
  },
  {
   "cell_type": "code",
   "execution_count": 130,
   "id": "2be2fc6d-d745-4eb1-83ce-3ce53cac90bb",
   "metadata": {},
   "outputs": [],
   "source": [
    "def triangle(r):\n",
    "    if type(r)==int:\n",
    "        for i in range(1,r):\n",
    "            for j in range(i):\n",
    "                print(\"*\",end=\" \")\n",
    "            print(\"\\n\")"
   ]
  },
  {
   "cell_type": "code",
   "execution_count": 134,
   "id": "6f535eed-b20a-4e06-90d2-d5fd10686921",
   "metadata": {},
   "outputs": [
    {
     "name": "stdout",
     "output_type": "stream",
     "text": [
      "* \n",
      "\n",
      "* * \n",
      "\n",
      "* * * \n",
      "\n",
      "* * * * \n",
      "\n"
     ]
    }
   ],
   "source": [
    "triangle(5)"
   ]
  },
  {
   "cell_type": "code",
   "execution_count": 137,
   "id": "70f2a4e5-142b-4e0d-b549-eee62499714b",
   "metadata": {},
   "outputs": [],
   "source": [
    "def test8(a,b,c,d,e):\n",
    "    return a,b"
   ]
  },
  {
   "cell_type": "code",
   "execution_count": 139,
   "id": "abb703c0-aca8-427d-b4be-346282d87f89",
   "metadata": {},
   "outputs": [
    {
     "data": {
      "text/plain": [
       "(1, 2)"
      ]
     },
     "execution_count": 139,
     "metadata": {},
     "output_type": "execute_result"
    }
   ],
   "source": [
    "test8(1,2,3,4,5)"
   ]
  },
  {
   "cell_type": "code",
   "execution_count": 141,
   "id": "693e8d6a-4561-4910-87ec-0c2aa88dc3ac",
   "metadata": {},
   "outputs": [],
   "source": [
    "def test9(*args):\n",
    "    return args"
   ]
  },
  {
   "cell_type": "code",
   "execution_count": 143,
   "id": "4a4141f0-9320-4f1c-9ad5-084d0ed3ab80",
   "metadata": {},
   "outputs": [
    {
     "data": {
      "text/plain": [
       "(2, 3, 4, 5)"
      ]
     },
     "execution_count": 143,
     "metadata": {},
     "output_type": "execute_result"
    }
   ],
   "source": [
    "test9(2,3,4,5)"
   ]
  },
  {
   "cell_type": "code",
   "execution_count": 145,
   "id": "734af0a7-d664-485a-b99e-32a24137fe54",
   "metadata": {},
   "outputs": [
    {
     "data": {
      "text/plain": [
       "('abc', 'pqr', 8, 9, 55.4)"
      ]
     },
     "execution_count": 145,
     "metadata": {},
     "output_type": "execute_result"
    }
   ],
   "source": [
    "test9(\"abc\",\"pqr\", 8, 9, 55.4)"
   ]
  },
  {
   "cell_type": "code",
   "execution_count": 147,
   "id": "199b6d56-4429-452c-ad1b-45a0c92e0381",
   "metadata": {},
   "outputs": [],
   "source": [
    "def test10(*py, a):\n",
    "    return py,a"
   ]
  },
  {
   "cell_type": "code",
   "execution_count": 151,
   "id": "8fa66d1f-f12e-4c1f-8682-2040fcfb2e0c",
   "metadata": {},
   "outputs": [
    {
     "data": {
      "text/plain": [
       "((88, 6, 77, 88), 99)"
      ]
     },
     "execution_count": 151,
     "metadata": {},
     "output_type": "execute_result"
    }
   ],
   "source": [
    "test10(88,6,77,88,a=99)"
   ]
  },
  {
   "cell_type": "code",
   "execution_count": 157,
   "id": "73963a44-fb15-4e2a-85df-42242ba000b2",
   "metadata": {},
   "outputs": [],
   "source": [
    "def test12(a, *py):  #a need not be defined separately, single variable: first element is taken as a\n",
    "    return *py, a"
   ]
  },
  {
   "cell_type": "code",
   "execution_count": 159,
   "id": "c3482209-1211-4bb3-a1d0-c4ae553cf814",
   "metadata": {},
   "outputs": [
    {
     "data": {
      "text/plain": [
       "(525, 77, 99, 22)"
      ]
     },
     "execution_count": 159,
     "metadata": {},
     "output_type": "execute_result"
    }
   ],
   "source": [
    "test12(22,525,77,99)"
   ]
  },
  {
   "cell_type": "code",
   "execution_count": 163,
   "id": "30ad0109-13bb-4aa3-84db-72b34f4160e2",
   "metadata": {},
   "outputs": [],
   "source": [
    "def test13(a, *py):\n",
    "    return a, *py"
   ]
  },
  {
   "cell_type": "code",
   "execution_count": 165,
   "id": "2fe91036-c052-429f-94fc-e178c34f7544",
   "metadata": {},
   "outputs": [
    {
     "ename": "SyntaxError",
     "evalue": "positional argument follows keyword argument (4265685009.py, line 1)",
     "output_type": "error",
     "traceback": [
      "\u001b[1;36m  File \u001b[1;32m\"C:\\Users\\labee\\AppData\\Local\\Temp\\ipykernel_20412\\4265685009.py\"\u001b[1;36m, line \u001b[1;32m1\u001b[0m\n\u001b[1;33m    test13(a=22, 33,44,55)\u001b[0m\n\u001b[1;37m                         ^\u001b[0m\n\u001b[1;31mSyntaxError\u001b[0m\u001b[1;31m:\u001b[0m positional argument follows keyword argument\n"
     ]
    }
   ],
   "source": [
    "test13(a=22, 33,44,55)"
   ]
  },
  {
   "cell_type": "code",
   "execution_count": 167,
   "id": "f757e09d-a044-4320-966f-040173ae846f",
   "metadata": {},
   "outputs": [
    {
     "data": {
      "text/plain": [
       "(1, 3, 4, 5)"
      ]
     },
     "execution_count": 167,
     "metadata": {},
     "output_type": "execute_result"
    }
   ],
   "source": [
    "test13(1,3,4,5)"
   ]
  },
  {
   "cell_type": "code",
   "execution_count": 169,
   "id": "46d27a44-20f3-442b-bf1c-8de9bcf0c6ba",
   "metadata": {},
   "outputs": [],
   "source": [
    "def test14(a, *py, b, c):\n",
    "    return a,py,b,c"
   ]
  },
  {
   "cell_type": "code",
   "execution_count": 171,
   "id": "ef857004-77f4-47b2-b75e-d2df15b5391a",
   "metadata": {},
   "outputs": [
    {
     "data": {
      "text/plain": [
       "(1, (2, 3, 4), 6, 9)"
      ]
     },
     "execution_count": 171,
     "metadata": {},
     "output_type": "execute_result"
    }
   ],
   "source": [
    "test14(1,2,3,4,b=6,c=9)"
   ]
  },
  {
   "cell_type": "code",
   "execution_count": 173,
   "id": "ce1d590b-a1a6-444c-a57f-6b407d9b08dc",
   "metadata": {},
   "outputs": [
    {
     "ename": "TypeError",
     "evalue": "test14() missing 2 required keyword-only arguments: 'b' and 'c'",
     "output_type": "error",
     "traceback": [
      "\u001b[1;31m---------------------------------------------------------------------------\u001b[0m",
      "\u001b[1;31mTypeError\u001b[0m                                 Traceback (most recent call last)",
      "\u001b[1;32m~\\AppData\\Local\\Temp\\ipykernel_20412\\2637569137.py\u001b[0m in \u001b[0;36m<module>\u001b[1;34m\u001b[0m\n\u001b[1;32m----> 1\u001b[1;33m \u001b[0mtest14\u001b[0m\u001b[1;33m(\u001b[0m\u001b[1;36m1\u001b[0m\u001b[1;33m,\u001b[0m\u001b[1;36m2\u001b[0m\u001b[1;33m,\u001b[0m\u001b[1;36m3\u001b[0m\u001b[1;33m,\u001b[0m\u001b[1;36m4\u001b[0m\u001b[1;33m,\u001b[0m\u001b[1;36m5\u001b[0m\u001b[1;33m,\u001b[0m\u001b[1;36m6\u001b[0m\u001b[1;33m)\u001b[0m\u001b[1;33m\u001b[0m\u001b[1;33m\u001b[0m\u001b[0m\n\u001b[0m",
      "\u001b[1;31mTypeError\u001b[0m: test14() missing 2 required keyword-only arguments: 'b' and 'c'"
     ]
    }
   ],
   "source": [
    "test14(1,2,3,4,5,6)"
   ]
  },
  {
   "cell_type": "code",
   "execution_count": null,
   "id": "ddd78a8c-215e-4899-9fbd-a06d1c306844",
   "metadata": {},
   "outputs": [],
   "source": []
  }
 ],
 "metadata": {
  "kernelspec": {
   "display_name": "Python [conda env:Anaconda3]",
   "language": "python",
   "name": "conda-env-Anaconda3-py"
  },
  "language_info": {
   "codemirror_mode": {
    "name": "ipython",
    "version": 3
   },
   "file_extension": ".py",
   "mimetype": "text/x-python",
   "name": "python",
   "nbconvert_exporter": "python",
   "pygments_lexer": "ipython3",
   "version": "3.9.16"
  }
 },
 "nbformat": 4,
 "nbformat_minor": 5
}
