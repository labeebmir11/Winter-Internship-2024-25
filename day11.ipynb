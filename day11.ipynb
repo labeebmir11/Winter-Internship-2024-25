{
 "cells": [
  {
   "cell_type": "code",
   "execution_count": 1,
   "id": "042cf11f-5992-4ed2-88f4-f0d0133a97dd",
   "metadata": {},
   "outputs": [],
   "source": [
    "#numerical python\n",
    "#n dimensional array\n",
    "#applications in computer vision"
   ]
  },
  {
   "cell_type": "code",
   "execution_count": 3,
   "id": "0814379a-b13f-4eb0-8045-91d5e9b528a0",
   "metadata": {},
   "outputs": [],
   "source": [
    "import numpy as np"
   ]
  },
  {
   "cell_type": "code",
   "execution_count": 5,
   "id": "860940b4-431b-484b-98d7-aabd0c7a429b",
   "metadata": {},
   "outputs": [],
   "source": [
    "a1=np.array([1,2,3,4,5])"
   ]
  },
  {
   "cell_type": "code",
   "execution_count": 7,
   "id": "6770f46c-b1df-498b-be38-cee8868bcc4c",
   "metadata": {},
   "outputs": [
    {
     "data": {
      "text/plain": [
       "array([1, 2, 3, 4, 5])"
      ]
     },
     "execution_count": 7,
     "metadata": {},
     "output_type": "execute_result"
    }
   ],
   "source": [
    "a1"
   ]
  },
  {
   "cell_type": "code",
   "execution_count": 9,
   "id": "d099e00f-69c0-449e-90e9-77ab8ee030b5",
   "metadata": {},
   "outputs": [
    {
     "data": {
      "text/plain": [
       "numpy.ndarray"
      ]
     },
     "execution_count": 9,
     "metadata": {},
     "output_type": "execute_result"
    }
   ],
   "source": [
    "type(a1)\n"
   ]
  },
  {
   "cell_type": "code",
   "execution_count": 19,
   "id": "3a3ec4a3-b4dc-4941-862f-07e63ba17946",
   "metadata": {},
   "outputs": [],
   "source": [
    "a2=np.array([[1,2],[3,4]])"
   ]
  },
  {
   "cell_type": "code",
   "execution_count": 21,
   "id": "975d4aa4-8096-40a4-a25b-6e6452179f79",
   "metadata": {},
   "outputs": [
    {
     "data": {
      "text/plain": [
       "array([[1, 2],\n",
       "       [3, 4]])"
      ]
     },
     "execution_count": 21,
     "metadata": {},
     "output_type": "execute_result"
    }
   ],
   "source": [
    "a2"
   ]
  },
  {
   "cell_type": "code",
   "execution_count": 23,
   "id": "05206be4-4a7c-4fdb-841a-4a2b975b312e",
   "metadata": {},
   "outputs": [
    {
     "data": {
      "text/plain": [
       "numpy.ndarray"
      ]
     },
     "execution_count": 23,
     "metadata": {},
     "output_type": "execute_result"
    }
   ],
   "source": [
    "type(a2)\n"
   ]
  },
  {
   "cell_type": "code",
   "execution_count": 25,
   "id": "efd78617-bd83-4621-9917-9a83bc9659de",
   "metadata": {},
   "outputs": [
    {
     "data": {
      "text/plain": [
       "array([1, 2])"
      ]
     },
     "execution_count": 25,
     "metadata": {},
     "output_type": "execute_result"
    }
   ],
   "source": [
    "a2[0]"
   ]
  },
  {
   "cell_type": "code",
   "execution_count": 27,
   "id": "155e2d3a-ab8a-4806-a430-f40f6a676a01",
   "metadata": {},
   "outputs": [
    {
     "data": {
      "text/plain": [
       "2"
      ]
     },
     "execution_count": 27,
     "metadata": {},
     "output_type": "execute_result"
    }
   ],
   "source": [
    "a2[0][1]"
   ]
  },
  {
   "cell_type": "code",
   "execution_count": 35,
   "id": "e0df4080-0f40-4abf-9906-69e1461a7d43",
   "metadata": {},
   "outputs": [],
   "source": [
    "a2=np.array([2,3,5,7])"
   ]
  },
  {
   "cell_type": "code",
   "execution_count": 37,
   "id": "c69568c4-85ce-4771-9b8f-e4d83e21a88d",
   "metadata": {},
   "outputs": [
    {
     "data": {
      "text/plain": [
       "array([2, 3, 5, 7])"
      ]
     },
     "execution_count": 37,
     "metadata": {},
     "output_type": "execute_result"
    }
   ],
   "source": [
    "a2"
   ]
  },
  {
   "cell_type": "code",
   "execution_count": 39,
   "id": "d9ee060e-2c15-415e-9cc7-28cdcfbfc857",
   "metadata": {},
   "outputs": [],
   "source": [
    "a2=np.array([2,3,5,7,9.2])"
   ]
  },
  {
   "cell_type": "code",
   "execution_count": 41,
   "id": "6f5fb119-ee18-4710-bc57-c73893781858",
   "metadata": {},
   "outputs": [
    {
     "data": {
      "text/plain": [
       "array([2. , 3. , 5. , 7. , 9.2])"
      ]
     },
     "execution_count": 41,
     "metadata": {},
     "output_type": "execute_result"
    }
   ],
   "source": [
    "a2"
   ]
  },
  {
   "cell_type": "code",
   "execution_count": 43,
   "id": "b315c89e-1c1d-4945-8b7f-3ff5cdef6934",
   "metadata": {},
   "outputs": [],
   "source": [
    "a3=np.array([2,3,4,56,77,1,4],ndmin=5)"
   ]
  },
  {
   "cell_type": "code",
   "execution_count": 45,
   "id": "c5f4ad31-1626-446c-b164-098a9d087b47",
   "metadata": {},
   "outputs": [
    {
     "data": {
      "text/plain": [
       "array([[[[[ 2,  3,  4, 56, 77,  1,  4]]]]])"
      ]
     },
     "execution_count": 45,
     "metadata": {},
     "output_type": "execute_result"
    }
   ],
   "source": [
    "a3"
   ]
  },
  {
   "cell_type": "code",
   "execution_count": 47,
   "id": "5008d144-c552-4079-bec2-e816ae2bdf58",
   "metadata": {},
   "outputs": [
    {
     "data": {
      "text/plain": [
       "array([[[[ 2,  3,  4, 56, 77,  1,  4]]]])"
      ]
     },
     "execution_count": 47,
     "metadata": {},
     "output_type": "execute_result"
    }
   ],
   "source": [
    "a3[0]"
   ]
  },
  {
   "cell_type": "code",
   "execution_count": 49,
   "id": "4b1b6860-491b-40fc-83fc-114e2ac5cce0",
   "metadata": {},
   "outputs": [
    {
     "ename": "IndexError",
     "evalue": "index 1 is out of bounds for axis 0 with size 1",
     "output_type": "error",
     "traceback": [
      "\u001b[1;31m---------------------------------------------------------------------------\u001b[0m",
      "\u001b[1;31mIndexError\u001b[0m                                Traceback (most recent call last)",
      "\u001b[1;32m~\\AppData\\Local\\Temp\\ipykernel_30368\\1553340010.py\u001b[0m in \u001b[0;36m<module>\u001b[1;34m\u001b[0m\n\u001b[1;32m----> 1\u001b[1;33m \u001b[0ma3\u001b[0m\u001b[1;33m[\u001b[0m\u001b[1;36m1\u001b[0m\u001b[1;33m]\u001b[0m\u001b[1;33m\u001b[0m\u001b[1;33m\u001b[0m\u001b[0m\n\u001b[0m",
      "\u001b[1;31mIndexError\u001b[0m: index 1 is out of bounds for axis 0 with size 1"
     ]
    }
   ],
   "source": [
    "a3[1]\n"
   ]
  },
  {
   "cell_type": "code",
   "execution_count": 51,
   "id": "f8521851-e13e-4a24-ba4f-053edfdc1416",
   "metadata": {},
   "outputs": [
    {
     "data": {
      "text/plain": [
       "array([[[ 2,  3,  4, 56, 77,  1,  4]]])"
      ]
     },
     "execution_count": 51,
     "metadata": {},
     "output_type": "execute_result"
    }
   ],
   "source": [
    "a3[0][0]"
   ]
  },
  {
   "cell_type": "code",
   "execution_count": 53,
   "id": "68148293-70cd-438b-8b18-8812b08940f8",
   "metadata": {},
   "outputs": [
    {
     "data": {
      "text/plain": [
       "array([[ 2,  3,  4, 56, 77,  1,  4]])"
      ]
     },
     "execution_count": 53,
     "metadata": {},
     "output_type": "execute_result"
    }
   ],
   "source": [
    "a3[0][0][0]"
   ]
  },
  {
   "cell_type": "code",
   "execution_count": 55,
   "id": "1bb6cf2a-d0ef-495b-b40a-2f9400aa3a2c",
   "metadata": {},
   "outputs": [],
   "source": [
    "a4=np.array([2,3,4,56,77,1,4])"
   ]
  },
  {
   "cell_type": "code",
   "execution_count": 57,
   "id": "eea43ae1-a6db-40f5-8c5a-039ee887054b",
   "metadata": {},
   "outputs": [
    {
     "data": {
      "text/plain": [
       "array([ 2,  3,  4, 56, 77,  1,  4])"
      ]
     },
     "execution_count": 57,
     "metadata": {},
     "output_type": "execute_result"
    }
   ],
   "source": [
    "a4"
   ]
  },
  {
   "cell_type": "code",
   "execution_count": 59,
   "id": "5441d9a1-f8fd-4770-a28f-b6409adf3948",
   "metadata": {},
   "outputs": [
    {
     "data": {
      "text/plain": [
       "array([ 2,  3,  4, 56, 77,  1,  4])"
      ]
     },
     "execution_count": 59,
     "metadata": {},
     "output_type": "execute_result"
    }
   ],
   "source": [
    "np.asarray([ 2,  3,  4, 56, 77,  1,  4])"
   ]
  },
  {
   "cell_type": "code",
   "execution_count": 61,
   "id": "d20d001c-235e-4ce2-b5b6-81a2f91d5e58",
   "metadata": {},
   "outputs": [
    {
     "data": {
      "text/plain": [
       "array([ 2,  3,  4, 56, 77,  1,  4])"
      ]
     },
     "execution_count": 61,
     "metadata": {},
     "output_type": "execute_result"
    }
   ],
   "source": [
    "np.asanyarray([ 2,  3,  4, 56, 77,  1,  4])"
   ]
  },
  {
   "cell_type": "code",
   "execution_count": 63,
   "id": "6d37bb34-d2e0-4814-a2cc-2df177b42457",
   "metadata": {},
   "outputs": [
    {
     "data": {
      "text/plain": [
       "matrix([[1, 2, 3, 4, 5, 6, 7]])"
      ]
     },
     "execution_count": 63,
     "metadata": {},
     "output_type": "execute_result"
    }
   ],
   "source": [
    "np.mat([1,2,3,4,5,6,7])"
   ]
  },
  {
   "cell_type": "code",
   "execution_count": 65,
   "id": "de803a83-e6ac-43b4-af1f-c7dd39316c6f",
   "metadata": {},
   "outputs": [
    {
     "data": {
      "text/plain": [
       "array([1, 2, 3, 4, 5])"
      ]
     },
     "execution_count": 65,
     "metadata": {},
     "output_type": "execute_result"
    }
   ],
   "source": [
    "a=[1,2,3,4,5]\n",
    "np.asarray(a)\n"
   ]
  },
  {
   "cell_type": "code",
   "execution_count": 67,
   "id": "b95a5142-0ea0-4079-9b1d-20f18b691fb1",
   "metadata": {},
   "outputs": [
    {
     "data": {
      "text/plain": [
       "matrix([[1, 2, 3, 4, 5]])"
      ]
     },
     "execution_count": 67,
     "metadata": {},
     "output_type": "execute_result"
    }
   ],
   "source": [
    "np.mat(a)"
   ]
  },
  {
   "cell_type": "code",
   "execution_count": 69,
   "id": "58db1fe5-c023-4731-a6e2-23ab00229c48",
   "metadata": {},
   "outputs": [
    {
     "data": {
      "text/plain": [
       "array([1, 2, 3, 4, 5])"
      ]
     },
     "execution_count": 69,
     "metadata": {},
     "output_type": "execute_result"
    }
   ],
   "source": [
    "np.asanyarray(a)"
   ]
  },
  {
   "cell_type": "code",
   "execution_count": 71,
   "id": "3700bf41-79fa-4c2a-959e-2e19cd86c251",
   "metadata": {},
   "outputs": [
    {
     "data": {
      "text/plain": [
       "matrix([[1, 2, 3, 4, 5]])"
      ]
     },
     "execution_count": 71,
     "metadata": {},
     "output_type": "execute_result"
    }
   ],
   "source": [
    "np.asanyarray(np.mat(a))"
   ]
  },
  {
   "cell_type": "code",
   "execution_count": 73,
   "id": "dbdebfdd-d3fb-4376-8915-457245b6ee77",
   "metadata": {},
   "outputs": [
    {
     "data": {
      "text/plain": [
       "matrix([[1, 2, 3, 4, 5]])"
      ]
     },
     "execution_count": 73,
     "metadata": {},
     "output_type": "execute_result"
    }
   ],
   "source": [
    "np.mat(a)"
   ]
  },
  {
   "cell_type": "code",
   "execution_count": 75,
   "id": "bd6572e4-ab03-4d7b-aac9-3c81bab01562",
   "metadata": {},
   "outputs": [
    {
     "data": {
      "text/plain": [
       "numpy.matrix"
      ]
     },
     "execution_count": 75,
     "metadata": {},
     "output_type": "execute_result"
    }
   ],
   "source": [
    "type(np.asanyarray(np.mat(a))) #type=matrix\n"
   ]
  },
  {
   "cell_type": "code",
   "execution_count": 81,
   "id": "b1012956-84ee-4525-b2f4-6918070eeb24",
   "metadata": {},
   "outputs": [
    {
     "data": {
      "text/plain": [
       "numpy.ndarray"
      ]
     },
     "execution_count": 81,
     "metadata": {},
     "output_type": "execute_result"
    }
   ],
   "source": [
    "type(np.asarray(np.mat(a)))  #type=n-d array"
   ]
  },
  {
   "cell_type": "code",
   "execution_count": 83,
   "id": "81750442-7db4-4874-b4bc-d4e76e2d4bab",
   "metadata": {},
   "outputs": [
    {
     "data": {
      "text/plain": [
       "array([[ True, False, False],\n",
       "       [False,  True, False],\n",
       "       [False, False,  True]])"
      ]
     },
     "execution_count": 83,
     "metadata": {},
     "output_type": "execute_result"
    }
   ],
   "source": [
    "np.fromfunction(lambda i,j : i==j, (3,3))\n"
   ]
  },
  {
   "cell_type": "code",
   "execution_count": 85,
   "id": "5733f980-ad73-4d4a-bbda-9a8b71d5e59b",
   "metadata": {},
   "outputs": [
    {
     "data": {
      "text/plain": [
       "array([[0., 0., 0.],\n",
       "       [0., 1., 2.],\n",
       "       [0., 2., 4.]])"
      ]
     },
     "execution_count": 85,
     "metadata": {},
     "output_type": "execute_result"
    }
   ],
   "source": [
    "np.fromfunction(lambda i,j : i*j, (3,3))"
   ]
  },
  {
   "cell_type": "code",
   "execution_count": 91,
   "id": "dc426e3d-4c4f-406a-be78-363b40a7c55c",
   "metadata": {},
   "outputs": [],
   "source": [
    "q1=np.fromfunction(lambda i,j : i*j, (100,100), dtype=int)"
   ]
  },
  {
   "cell_type": "code",
   "execution_count": 93,
   "id": "d539403f-8699-42de-ae42-63ad06cfb48b",
   "metadata": {},
   "outputs": [
    {
     "data": {
      "text/plain": [
       "2"
      ]
     },
     "execution_count": 93,
     "metadata": {},
     "output_type": "execute_result"
    }
   ],
   "source": [
    "q1.ndim"
   ]
  },
  {
   "cell_type": "code",
   "execution_count": 95,
   "id": "773b5364-d42f-4e7e-9396-a5cb99a738ec",
   "metadata": {},
   "outputs": [
    {
     "data": {
      "text/plain": [
       "10000"
      ]
     },
     "execution_count": 95,
     "metadata": {},
     "output_type": "execute_result"
    }
   ],
   "source": [
    "q1.size"
   ]
  },
  {
   "cell_type": "code",
   "execution_count": 97,
   "id": "0e74985e-0cfc-4fc5-b64e-6b6c0978aeef",
   "metadata": {},
   "outputs": [
    {
     "data": {
      "text/plain": [
       "(100, 100)"
      ]
     },
     "execution_count": 97,
     "metadata": {},
     "output_type": "execute_result"
    }
   ],
   "source": [
    "q1.shape"
   ]
  },
  {
   "cell_type": "code",
   "execution_count": 103,
   "id": "70a2ef88-e977-49f2-ba68-e30f6d1d583d",
   "metadata": {},
   "outputs": [
    {
     "data": {
      "text/plain": [
       "array([[[0.77624403, 0.75523716, 0.4009592 ],\n",
       "        [0.3014279 , 0.9679964 , 0.2886582 ],\n",
       "        [0.79410651, 0.10483433, 0.83003772],\n",
       "        [0.65278308, 0.26698382, 0.3788937 ],\n",
       "        [0.45822141, 0.98162732, 0.30446721]],\n",
       "\n",
       "       [[0.60182871, 0.51417273, 0.22529808],\n",
       "        [0.73689611, 0.41957828, 0.02950072],\n",
       "        [0.60323208, 0.01557939, 0.52042306],\n",
       "        [0.26649276, 0.47396658, 0.19906299],\n",
       "        [0.34241235, 0.7376036 , 0.50794629]],\n",
       "\n",
       "       [[0.94356702, 0.36168121, 0.40241837],\n",
       "        [0.05082134, 0.33761671, 0.02444069],\n",
       "        [0.76728053, 0.50125887, 0.40617507],\n",
       "        [0.80651518, 0.22853658, 0.06355739],\n",
       "        [0.72804549, 0.70461894, 0.56044935]],\n",
       "\n",
       "       [[0.10863115, 0.5912469 , 0.06378128],\n",
       "        [0.8848527 , 0.77513092, 0.23965602],\n",
       "        [0.24595455, 0.84960171, 0.25612664],\n",
       "        [0.90865457, 0.88254414, 0.18914656],\n",
       "        [0.3338639 , 0.97395459, 0.45037894]],\n",
       "\n",
       "       [[0.49076707, 0.99579802, 0.99984939],\n",
       "        [0.24113951, 0.01232032, 0.87145114],\n",
       "        [0.95154478, 0.93332981, 0.48603008],\n",
       "        [0.62675302, 0.39039488, 0.6441087 ],\n",
       "        [0.74002226, 0.09620824, 0.61063228]],\n",
       "\n",
       "       [[0.45258091, 0.40932833, 0.89127453],\n",
       "        [0.28670884, 0.11175911, 0.31958225],\n",
       "        [0.60253285, 0.14127526, 0.05253817],\n",
       "        [0.49708859, 0.16051116, 0.51477404],\n",
       "        [0.12654065, 0.8776342 , 0.85917396]]])"
      ]
     },
     "execution_count": 103,
     "metadata": {},
     "output_type": "execute_result"
    }
   ],
   "source": [
    "np.random.rand(6,5,3) #no of arrays, rows, cols (3 d array)"
   ]
  },
  {
   "cell_type": "code",
   "execution_count": 111,
   "id": "1539b3ff-3d62-44a2-a498-d17324cefb85",
   "metadata": {},
   "outputs": [
    {
     "data": {
      "text/plain": [
       "2"
      ]
     },
     "execution_count": 111,
     "metadata": {},
     "output_type": "execute_result"
    }
   ],
   "source": [
    "np.random.randint(2,55)"
   ]
  },
  {
   "cell_type": "code",
   "execution_count": 113,
   "id": "2fd12f07-459e-4ec6-a85b-c1916f4aefaa",
   "metadata": {},
   "outputs": [],
   "source": [
    "import pandas as pd"
   ]
  },
  {
   "cell_type": "code",
   "execution_count": 117,
   "id": "daca1666-15a3-4c91-a0a3-68d14d2781f3",
   "metadata": {},
   "outputs": [
    {
     "data": {
      "text/html": [
       "<div>\n",
       "<style scoped>\n",
       "    .dataframe tbody tr th:only-of-type {\n",
       "        vertical-align: middle;\n",
       "    }\n",
       "\n",
       "    .dataframe tbody tr th {\n",
       "        vertical-align: top;\n",
       "    }\n",
       "\n",
       "    .dataframe thead th {\n",
       "        text-align: right;\n",
       "    }\n",
       "</style>\n",
       "<table border=\"1\" class=\"dataframe\">\n",
       "  <thead>\n",
       "    <tr style=\"text-align: right;\">\n",
       "      <th></th>\n",
       "      <th>0</th>\n",
       "      <th>1</th>\n",
       "      <th>2</th>\n",
       "      <th>3</th>\n",
       "      <th>4</th>\n",
       "      <th>5</th>\n",
       "      <th>6</th>\n",
       "    </tr>\n",
       "  </thead>\n",
       "  <tbody>\n",
       "    <tr>\n",
       "      <th>0</th>\n",
       "      <td>1.396681</td>\n",
       "      <td>0.220819</td>\n",
       "      <td>-0.570537</td>\n",
       "      <td>0.721837</td>\n",
       "      <td>1.815347</td>\n",
       "      <td>-0.401047</td>\n",
       "      <td>0.413282</td>\n",
       "    </tr>\n",
       "    <tr>\n",
       "      <th>1</th>\n",
       "      <td>-1.691015</td>\n",
       "      <td>0.694981</td>\n",
       "      <td>0.138330</td>\n",
       "      <td>1.033354</td>\n",
       "      <td>-0.105856</td>\n",
       "      <td>0.544041</td>\n",
       "      <td>0.064376</td>\n",
       "    </tr>\n",
       "    <tr>\n",
       "      <th>2</th>\n",
       "      <td>-0.169754</td>\n",
       "      <td>-0.965083</td>\n",
       "      <td>0.761248</td>\n",
       "      <td>-2.825709</td>\n",
       "      <td>-0.646932</td>\n",
       "      <td>0.712616</td>\n",
       "      <td>-0.759383</td>\n",
       "    </tr>\n",
       "    <tr>\n",
       "      <th>3</th>\n",
       "      <td>1.075669</td>\n",
       "      <td>-1.271592</td>\n",
       "      <td>1.583009</td>\n",
       "      <td>-1.523138</td>\n",
       "      <td>0.502320</td>\n",
       "      <td>1.202676</td>\n",
       "      <td>0.452310</td>\n",
       "    </tr>\n",
       "    <tr>\n",
       "      <th>4</th>\n",
       "      <td>0.473457</td>\n",
       "      <td>-0.266472</td>\n",
       "      <td>0.629147</td>\n",
       "      <td>0.027398</td>\n",
       "      <td>1.108788</td>\n",
       "      <td>-1.039613</td>\n",
       "      <td>-1.186584</td>\n",
       "    </tr>\n",
       "    <tr>\n",
       "      <th>5</th>\n",
       "      <td>0.707319</td>\n",
       "      <td>0.315896</td>\n",
       "      <td>-0.675930</td>\n",
       "      <td>-0.612367</td>\n",
       "      <td>-0.346177</td>\n",
       "      <td>0.490147</td>\n",
       "      <td>0.443197</td>\n",
       "    </tr>\n",
       "  </tbody>\n",
       "</table>\n",
       "</div>"
      ],
      "text/plain": [
       "          0         1         2         3         4         5         6\n",
       "0  1.396681  0.220819 -0.570537  0.721837  1.815347 -0.401047  0.413282\n",
       "1 -1.691015  0.694981  0.138330  1.033354 -0.105856  0.544041  0.064376\n",
       "2 -0.169754 -0.965083  0.761248 -2.825709 -0.646932  0.712616 -0.759383\n",
       "3  1.075669 -1.271592  1.583009 -1.523138  0.502320  1.202676  0.452310\n",
       "4  0.473457 -0.266472  0.629147  0.027398  1.108788 -1.039613 -1.186584\n",
       "5  0.707319  0.315896 -0.675930 -0.612367 -0.346177  0.490147  0.443197"
      ]
     },
     "execution_count": 117,
     "metadata": {},
     "output_type": "execute_result"
    }
   ],
   "source": [
    "pd.DataFrame(np.random.randn(6,7))"
   ]
  },
  {
   "cell_type": "code",
   "execution_count": 123,
   "id": "3a6fab2e-d039-4461-b7d7-48b4d688cba8",
   "metadata": {},
   "outputs": [],
   "source": [
    "a1=np.arange(2,10,0.5) #0.5 is the step size"
   ]
  },
  {
   "cell_type": "code",
   "execution_count": 125,
   "id": "3cf24ac7-4c72-4a2b-994f-d0f5c35888f9",
   "metadata": {},
   "outputs": [],
   "source": [
    "a1=np.arange(2,10)"
   ]
  },
  {
   "cell_type": "code",
   "execution_count": 127,
   "id": "b0fa6b8e-6633-4393-a8c7-6bcc479aca4b",
   "metadata": {},
   "outputs": [
    {
     "data": {
      "text/plain": [
       "array([2, 3, 4, 5, 6, 7, 8, 9])"
      ]
     },
     "execution_count": 127,
     "metadata": {},
     "output_type": "execute_result"
    }
   ],
   "source": [
    "a1"
   ]
  },
  {
   "cell_type": "code",
   "execution_count": 131,
   "id": "7687a5ac-0559-423c-8bb0-cc558e4f868d",
   "metadata": {},
   "outputs": [
    {
     "data": {
      "text/plain": [
       "array([4, 5, 6, 7, 8])"
      ]
     },
     "execution_count": 131,
     "metadata": {},
     "output_type": "execute_result"
    }
   ],
   "source": [
    "a1[2:7]"
   ]
  },
  {
   "cell_type": "code",
   "execution_count": 133,
   "id": "1b23f821-6687-4b55-9d4c-e422d710bfb0",
   "metadata": {},
   "outputs": [],
   "source": [
    "arr1=np.random.rand(4,5)"
   ]
  },
  {
   "cell_type": "code",
   "execution_count": 135,
   "id": "a47e93b6-721c-489f-824f-64a1fb5137fb",
   "metadata": {},
   "outputs": [
    {
     "data": {
      "text/plain": [
       "array([[0.22977543, 0.06119812, 0.37153447, 0.76827547, 0.2139548 ],\n",
       "       [0.16491958, 0.89144624, 0.51068197, 0.87046801, 0.15405838],\n",
       "       [0.63569576, 0.61122752, 0.83786802, 0.26577906, 0.57783974],\n",
       "       [0.98638112, 0.61478346, 0.21741189, 0.12569169, 0.31075413]])"
      ]
     },
     "execution_count": 135,
     "metadata": {},
     "output_type": "execute_result"
    }
   ],
   "source": [
    "arr1"
   ]
  },
  {
   "cell_type": "code",
   "execution_count": 137,
   "id": "a322d7e6-69ce-4046-96d6-120dc94793f3",
   "metadata": {},
   "outputs": [
    {
     "data": {
      "text/plain": [
       "array([0.76827547, 0.89144624, 0.51068197, 0.87046801, 0.63569576,\n",
       "       0.61122752, 0.83786802, 0.57783974, 0.98638112, 0.61478346])"
      ]
     },
     "execution_count": 137,
     "metadata": {},
     "output_type": "execute_result"
    }
   ],
   "source": [
    "arr1[arr1>0.5]"
   ]
  },
  {
   "cell_type": "code",
   "execution_count": 139,
   "id": "c12d4a16-5c07-4bfa-8d69-448c4d884ddb",
   "metadata": {},
   "outputs": [
    {
     "data": {
      "text/plain": [
       "array([0., 0., 0., 0., 0., 0., 0., 0., 0., 0.])"
      ]
     },
     "execution_count": 139,
     "metadata": {},
     "output_type": "execute_result"
    }
   ],
   "source": [
    "np.zeros(10)"
   ]
  },
  {
   "cell_type": "code",
   "execution_count": 141,
   "id": "bb8856c1-42ea-4b4c-89d8-eb3a5e390ed0",
   "metadata": {},
   "outputs": [
    {
     "data": {
      "text/plain": [
       "array([[0., 0., 0., 0.],\n",
       "       [0., 0., 0., 0.],\n",
       "       [0., 0., 0., 0.],\n",
       "       [0., 0., 0., 0.],\n",
       "       [0., 0., 0., 0.]])"
      ]
     },
     "execution_count": 141,
     "metadata": {},
     "output_type": "execute_result"
    }
   ],
   "source": [
    "np.zeros((5,4))"
   ]
  },
  {
   "cell_type": "code",
   "execution_count": 143,
   "id": "01f9da62-bc4d-40e7-a018-c351e66106ac",
   "metadata": {},
   "outputs": [
    {
     "data": {
      "text/plain": [
       "array([[[0., 0.],\n",
       "        [0., 0.],\n",
       "        [0., 0.],\n",
       "        [0., 0.]],\n",
       "\n",
       "       [[0., 0.],\n",
       "        [0., 0.],\n",
       "        [0., 0.],\n",
       "        [0., 0.]],\n",
       "\n",
       "       [[0., 0.],\n",
       "        [0., 0.],\n",
       "        [0., 0.],\n",
       "        [0., 0.]],\n",
       "\n",
       "       [[0., 0.],\n",
       "        [0., 0.],\n",
       "        [0., 0.],\n",
       "        [0., 0.]],\n",
       "\n",
       "       [[0., 0.],\n",
       "        [0., 0.],\n",
       "        [0., 0.],\n",
       "        [0., 0.]]])"
      ]
     },
     "execution_count": 143,
     "metadata": {},
     "output_type": "execute_result"
    }
   ],
   "source": [
    "np.zeros((5,4,2))"
   ]
  },
  {
   "cell_type": "code",
   "execution_count": 145,
   "id": "d26cc5a1-8bf1-4cc7-85d4-8abba1ce6bcf",
   "metadata": {},
   "outputs": [
    {
     "data": {
      "text/plain": [
       "array([[10., 10., 10., 10.],\n",
       "       [10., 10., 10., 10.],\n",
       "       [10., 10., 10., 10.]])"
      ]
     },
     "execution_count": 145,
     "metadata": {},
     "output_type": "execute_result"
    }
   ],
   "source": [
    "10 + np.zeros((3,4))"
   ]
  },
  {
   "cell_type": "code",
   "execution_count": 147,
   "id": "5f92c9af-ece8-40e4-b552-027f5bd412dd",
   "metadata": {},
   "outputs": [
    {
     "data": {
      "text/plain": [
       "array([[6.23042070e-307, 3.56043053e-307, 1.60219306e-306,\n",
       "        7.56571288e-307, 1.89146896e-307],\n",
       "       [1.37961302e-306, 1.05699242e-307, 8.01097889e-307,\n",
       "        1.78020169e-306, 7.56601165e-307],\n",
       "       [1.02359984e-306, 1.15710088e-306, 6.23056330e-307,\n",
       "        1.60219578e-306, 7.56601165e-307],\n",
       "       [6.23061763e-307, 9.34607074e-307, 8.90098127e-307,\n",
       "        1.11260755e-306, 1.42417629e-306],\n",
       "       [2.22523140e-306, 1.33511018e-306, 2.22519880e-306,\n",
       "        2.29179075e-312, 3.49698923e-317]])"
      ]
     },
     "execution_count": 147,
     "metadata": {},
     "output_type": "execute_result"
    }
   ],
   "source": [
    "np.empty((5,5))"
   ]
  },
  {
   "cell_type": "code",
   "execution_count": 149,
   "id": "ef67ba0b-c342-462d-b115-e51a18282b37",
   "metadata": {},
   "outputs": [
    {
     "data": {
      "text/plain": [
       "array([ 4.        ,  4.2244898 ,  4.44897959,  4.67346939,  4.89795918,\n",
       "        5.12244898,  5.34693878,  5.57142857,  5.79591837,  6.02040816,\n",
       "        6.24489796,  6.46938776,  6.69387755,  6.91836735,  7.14285714,\n",
       "        7.36734694,  7.59183673,  7.81632653,  8.04081633,  8.26530612,\n",
       "        8.48979592,  8.71428571,  8.93877551,  9.16326531,  9.3877551 ,\n",
       "        9.6122449 ,  9.83673469, 10.06122449, 10.28571429, 10.51020408,\n",
       "       10.73469388, 10.95918367, 11.18367347, 11.40816327, 11.63265306,\n",
       "       11.85714286, 12.08163265, 12.30612245, 12.53061224, 12.75510204,\n",
       "       12.97959184, 13.20408163, 13.42857143, 13.65306122, 13.87755102,\n",
       "       14.10204082, 14.32653061, 14.55102041, 14.7755102 , 15.        ])"
      ]
     },
     "execution_count": 149,
     "metadata": {},
     "output_type": "execute_result"
    }
   ],
   "source": [
    "np.linspace(4,15)"
   ]
  },
  {
   "cell_type": "code",
   "execution_count": 151,
   "id": "50f9ff27-bd85-4490-a591-d454c7a4c268",
   "metadata": {},
   "outputs": [
    {
     "data": {
      "text/plain": [
       "50"
      ]
     },
     "execution_count": 151,
     "metadata": {},
     "output_type": "execute_result"
    }
   ],
   "source": [
    "np.linspace(4,15).size"
   ]
  },
  {
   "cell_type": "code",
   "execution_count": 157,
   "id": "30c8d3d6-d7c8-4f36-abdf-4ebff46323e4",
   "metadata": {},
   "outputs": [
    {
     "data": {
      "text/plain": [
       "(array([1.  , 1.18, 1.36, 1.54, 1.72, 1.9 , 2.08, 2.26, 2.44, 2.62, 2.8 ,\n",
       "        2.98, 3.16, 3.34, 3.52, 3.7 , 3.88, 4.06, 4.24, 4.42, 4.6 , 4.78,\n",
       "        4.96, 5.14, 5.32, 5.5 , 5.68, 5.86, 6.04, 6.22, 6.4 , 6.58, 6.76,\n",
       "        6.94, 7.12, 7.3 , 7.48, 7.66, 7.84, 8.02, 8.2 , 8.38, 8.56, 8.74,\n",
       "        8.92, 9.1 , 9.28, 9.46, 9.64, 9.82]),\n",
       " 0.18)"
      ]
     },
     "execution_count": 157,
     "metadata": {},
     "output_type": "execute_result"
    }
   ],
   "source": [
    "np.linspace(1,10, endpoint=False, retstep = True)"
   ]
  },
  {
   "cell_type": "code",
   "execution_count": 159,
   "id": "202a4b5d-4ddc-4833-bd33-88560e10872b",
   "metadata": {},
   "outputs": [
    {
     "data": {
      "text/plain": [
       "array([   4.        ,   25.39841683,  161.26989439, 1024.        ])"
      ]
     },
     "execution_count": 159,
     "metadata": {},
     "output_type": "execute_result"
    }
   ],
   "source": [
    "np.logspace(2,10,4,base=2)"
   ]
  },
  {
   "cell_type": "code",
   "execution_count": null,
   "id": "f3cf0ca1-cc05-4593-a4c4-4fedcb466815",
   "metadata": {},
   "outputs": [],
   "source": []
  }
 ],
 "metadata": {
  "kernelspec": {
   "display_name": "Python [conda env:Anaconda3]",
   "language": "python",
   "name": "conda-env-Anaconda3-py"
  },
  "language_info": {
   "codemirror_mode": {
    "name": "ipython",
    "version": 3
   },
   "file_extension": ".py",
   "mimetype": "text/x-python",
   "name": "python",
   "nbconvert_exporter": "python",
   "pygments_lexer": "ipython3",
   "version": "3.9.16"
  }
 },
 "nbformat": 4,
 "nbformat_minor": 5
}
