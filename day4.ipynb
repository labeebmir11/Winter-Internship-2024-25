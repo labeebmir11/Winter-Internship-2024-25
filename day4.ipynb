{
 "cells": [
  {
   "cell_type": "markdown",
   "id": "82291269-7cee-4a2d-ace1-3ab3d56a5415",
   "metadata": {},
   "source": [
    "list"
   ]
  },
  {
   "cell_type": "code",
   "execution_count": 2,
   "id": "13e92d90-b749-40b7-a8c0-868f113b9f92",
   "metadata": {},
   "outputs": [],
   "source": [
    "l1=[1,2,3,4,5,11,22,33,44,55,\"labeeb\"]"
   ]
  },
  {
   "cell_type": "code",
   "execution_count": 4,
   "id": "881529d1-a0c6-4835-8964-2d2e33c44913",
   "metadata": {},
   "outputs": [
    {
     "data": {
      "text/plain": [
       "[1, 2, 3, 4, 5, 11, 22, 33, 44, 55, 'labeeb']"
      ]
     },
     "execution_count": 4,
     "metadata": {},
     "output_type": "execute_result"
    }
   ],
   "source": [
    "l1"
   ]
  },
  {
   "cell_type": "code",
   "execution_count": 6,
   "id": "6b0ccebd-f4cd-4577-b8b5-10ef5d574c60",
   "metadata": {},
   "outputs": [],
   "source": [
    "#slicing[start index, end index + 1: step size] defualt step size = 1 (jump)"
   ]
  },
  {
   "cell_type": "code",
   "execution_count": 8,
   "id": "3645ac43-1ae7-4cda-aef0-c7253cfc1641",
   "metadata": {},
   "outputs": [
    {
     "data": {
      "text/plain": [
       "[1, 2, 3, 4, 5, 11, 22, 33, 44, 55, 'labeeb']"
      ]
     },
     "execution_count": 8,
     "metadata": {},
     "output_type": "execute_result"
    }
   ],
   "source": [
    "l1[0:11:1]"
   ]
  },
  {
   "cell_type": "code",
   "execution_count": 10,
   "id": "453cec99-fc1e-497b-bf99-ad6ae920d5c5",
   "metadata": {},
   "outputs": [
    {
     "data": {
      "text/plain": [
       "[1, 3, 5, 22, 44, 'labeeb']"
      ]
     },
     "execution_count": 10,
     "metadata": {},
     "output_type": "execute_result"
    }
   ],
   "source": [
    "l1[0:11:2]"
   ]
  },
  {
   "cell_type": "code",
   "execution_count": 12,
   "id": "2f5fec55-aeb8-4b03-a4e2-b24733dea5fd",
   "metadata": {},
   "outputs": [
    {
     "data": {
      "text/plain": [
       "[1, 4, 22, 55]"
      ]
     },
     "execution_count": 12,
     "metadata": {},
     "output_type": "execute_result"
    }
   ],
   "source": [
    "l1[0:11:3]"
   ]
  },
  {
   "cell_type": "code",
   "execution_count": 14,
   "id": "0e7cee87-5435-494b-8f76-d5f8cab39f4d",
   "metadata": {},
   "outputs": [
    {
     "data": {
      "text/plain": [
       "[2, 3, 4, 5, 11, 22, 33]"
      ]
     },
     "execution_count": 14,
     "metadata": {},
     "output_type": "execute_result"
    }
   ],
   "source": [
    "l1[1:8]"
   ]
  },
  {
   "cell_type": "code",
   "execution_count": 16,
   "id": "1fdf48d4-1177-490c-8ac5-6c4dabadb367",
   "metadata": {},
   "outputs": [
    {
     "data": {
      "text/plain": [
       "[2, 4, 11, 33, 55]"
      ]
     },
     "execution_count": 16,
     "metadata": {},
     "output_type": "execute_result"
    }
   ],
   "source": [
    "l1[1:11:2]"
   ]
  },
  {
   "cell_type": "code",
   "execution_count": 18,
   "id": "e9ed68ad-19dc-4e3e-8157-e734cbc7b62c",
   "metadata": {},
   "outputs": [
    {
     "data": {
      "text/plain": [
       "['labeeb']"
      ]
     },
     "execution_count": 18,
     "metadata": {},
     "output_type": "execute_result"
    }
   ],
   "source": [
    "l1[-1:]"
   ]
  },
  {
   "cell_type": "code",
   "execution_count": 20,
   "id": "8ad81540-a04e-45ae-aac5-a2395c40c73d",
   "metadata": {},
   "outputs": [
    {
     "data": {
      "text/plain": [
       "[1, 2, 3, 4, 5, 11, 22, 33, 44, 55]"
      ]
     },
     "execution_count": 20,
     "metadata": {},
     "output_type": "execute_result"
    }
   ],
   "source": [
    "l1[:-1]"
   ]
  },
  {
   "cell_type": "code",
   "execution_count": 22,
   "id": "0b2df54b-646b-4a58-a553-f7893d84c043",
   "metadata": {},
   "outputs": [
    {
     "data": {
      "text/plain": [
       "['labeeb', 55, 44, 33, 22, 11, 5]"
      ]
     },
     "execution_count": 22,
     "metadata": {},
     "output_type": "execute_result"
    }
   ],
   "source": [
    "l1[-1:-8:-1]"
   ]
  },
  {
   "cell_type": "code",
   "execution_count": 24,
   "id": "e2bfc5d8-1c78-4f1f-b6e7-7c740b7d8ca3",
   "metadata": {},
   "outputs": [
    {
     "data": {
      "text/plain": [
       "[55, 33, 11, 4]"
      ]
     },
     "execution_count": 24,
     "metadata": {},
     "output_type": "execute_result"
    }
   ],
   "source": [
    "l1[-2:-10:-2]"
   ]
  },
  {
   "cell_type": "code",
   "execution_count": 26,
   "id": "456f6b61-23e6-4dd3-91a6-c827c7981053",
   "metadata": {},
   "outputs": [
    {
     "data": {
      "text/plain": [
       "[55, 44, 33, 22, 11, 5, 4, 3]"
      ]
     },
     "execution_count": 26,
     "metadata": {},
     "output_type": "execute_result"
    }
   ],
   "source": [
    "l1[-2:-10:-1]"
   ]
  },
  {
   "cell_type": "code",
   "execution_count": 28,
   "id": "20e0c9f4-5aeb-4d06-a4d4-9774abed4358",
   "metadata": {},
   "outputs": [
    {
     "data": {
      "text/plain": [
       "[1, 2, 3, 4, 5, 11, 22]"
      ]
     },
     "execution_count": 28,
     "metadata": {},
     "output_type": "execute_result"
    }
   ],
   "source": [
    "l1[:7]"
   ]
  },
  {
   "cell_type": "code",
   "execution_count": 30,
   "id": "afceac10-e083-4412-96fe-ad10a745d1c0",
   "metadata": {},
   "outputs": [
    {
     "data": {
      "text/plain": [
       "[1, 2, 3, 4]"
      ]
     },
     "execution_count": 30,
     "metadata": {},
     "output_type": "execute_result"
    }
   ],
   "source": [
    "l1[:-7]"
   ]
  },
  {
   "cell_type": "code",
   "execution_count": 32,
   "id": "f00cf435-bf77-47e0-933d-99cf0fdf34c9",
   "metadata": {},
   "outputs": [
    {
     "data": {
      "text/plain": [
       "['labeeb', 55, 44, 33, 22, 11]"
      ]
     },
     "execution_count": 32,
     "metadata": {},
     "output_type": "execute_result"
    }
   ],
   "source": [
    "l1[:-7:-1]"
   ]
  },
  {
   "cell_type": "code",
   "execution_count": 34,
   "id": "41fc5e79-c7a1-41e3-b97e-c03d413fd5a3",
   "metadata": {},
   "outputs": [
    {
     "data": {
      "text/plain": [
       "[1, 2, 3, 4, 5, 11, 22, 33, 44, 55, 'labeeb']"
      ]
     },
     "execution_count": 34,
     "metadata": {},
     "output_type": "execute_result"
    }
   ],
   "source": [
    "l1"
   ]
  },
  {
   "cell_type": "code",
   "execution_count": 36,
   "id": "3476e6fa-928a-4bb6-a192-840b0ccedf7c",
   "metadata": {},
   "outputs": [],
   "source": [
    "l2=[55,66,77,88,99,\"dhf\"]"
   ]
  },
  {
   "cell_type": "code",
   "execution_count": 38,
   "id": "ed17d692-7327-461c-8934-a18ae28f1177",
   "metadata": {},
   "outputs": [
    {
     "data": {
      "text/plain": [
       "[55, 66, 77, 88, 99, 'dhf']"
      ]
     },
     "execution_count": 38,
     "metadata": {},
     "output_type": "execute_result"
    }
   ],
   "source": [
    "l2"
   ]
  },
  {
   "cell_type": "code",
   "execution_count": 40,
   "id": "70a900ba-eacd-41ce-a65b-434d14c2720e",
   "metadata": {},
   "outputs": [
    {
     "data": {
      "text/plain": [
       "[1, 2, 3, 4, 5, 11, 22, 33, 44, 55, 'labeeb', 55, 66, 77, 88, 99, 'dhf']"
      ]
     },
     "execution_count": 40,
     "metadata": {},
     "output_type": "execute_result"
    }
   ],
   "source": [
    "l1+l2"
   ]
  },
  {
   "cell_type": "code",
   "execution_count": 42,
   "id": "997aa01e-2f1a-4b99-83d0-06dd1a5f93fb",
   "metadata": {},
   "outputs": [],
   "source": [
    "l3=l1+l2"
   ]
  },
  {
   "cell_type": "code",
   "execution_count": 44,
   "id": "6dbffc51-437d-4eef-8dd1-9bc6ae95f493",
   "metadata": {},
   "outputs": [
    {
     "data": {
      "text/plain": [
       "[1, 2, 3, 4, 5, 11, 22, 33, 44, 55, 'labeeb', 55, 66, 77, 88, 99, 'dhf']"
      ]
     },
     "execution_count": 44,
     "metadata": {},
     "output_type": "execute_result"
    }
   ],
   "source": [
    "l3"
   ]
  },
  {
   "cell_type": "code",
   "execution_count": 46,
   "id": "f0312860-8cbe-4e2a-a673-2bc2f093ca82",
   "metadata": {},
   "outputs": [
    {
     "data": {
      "text/plain": [
       "[1, 2, 3, 4, 5, 11, 22, 33, 44, 55, 'labeeb', 33, 55, 'computer']"
      ]
     },
     "execution_count": 46,
     "metadata": {},
     "output_type": "execute_result"
    }
   ],
   "source": [
    "l1+[33,55,\"computer\"]"
   ]
  },
  {
   "cell_type": "code",
   "execution_count": 48,
   "id": "08b886df-904f-4a98-a235-2714faaf78a3",
   "metadata": {},
   "outputs": [
    {
     "data": {
      "text/plain": [
       "[55, 66, 77, 88, 99, 'dhf']"
      ]
     },
     "execution_count": 48,
     "metadata": {},
     "output_type": "execute_result"
    }
   ],
   "source": [
    "l2"
   ]
  },
  {
   "cell_type": "code",
   "execution_count": 50,
   "id": "92041f2b-0432-4447-ab56-e5d4d96d32c5",
   "metadata": {},
   "outputs": [
    {
     "data": {
      "text/plain": [
       "[55, 66, 77, 88, 99, 'dhf', 55, 66, 77, 88, 99, 'dhf']"
      ]
     },
     "execution_count": 50,
     "metadata": {},
     "output_type": "execute_result"
    }
   ],
   "source": [
    "l2*2"
   ]
  },
  {
   "cell_type": "code",
   "execution_count": 52,
   "id": "00f96e26-35d1-4971-b988-c8a32cb8635a",
   "metadata": {},
   "outputs": [
    {
     "data": {
      "text/plain": [
       "[1, 2, 3, 4, 5, 11, 22, 33, 44, 55, 'labeeb']"
      ]
     },
     "execution_count": 52,
     "metadata": {},
     "output_type": "execute_result"
    }
   ],
   "source": [
    "l1"
   ]
  },
  {
   "cell_type": "code",
   "execution_count": 54,
   "id": "4f66aa26-676b-4570-9f4f-b4b5ff3569ee",
   "metadata": {},
   "outputs": [
    {
     "data": {
      "text/plain": [
       "'labeeb'"
      ]
     },
     "execution_count": 54,
     "metadata": {},
     "output_type": "execute_result"
    }
   ],
   "source": [
    "l1[10]"
   ]
  },
  {
   "cell_type": "code",
   "execution_count": 56,
   "id": "75074c63-a92d-4c02-95eb-25f0c60586a3",
   "metadata": {},
   "outputs": [],
   "source": [
    "l1[10]=\"mir\""
   ]
  },
  {
   "cell_type": "code",
   "execution_count": 58,
   "id": "e89e5d84-b0b3-43b2-91f0-1025a142a7d4",
   "metadata": {},
   "outputs": [
    {
     "data": {
      "text/plain": [
       "[1, 2, 3, 4, 5, 11, 22, 33, 44, 55, 'mir']"
      ]
     },
     "execution_count": 58,
     "metadata": {},
     "output_type": "execute_result"
    }
   ],
   "source": [
    "l1"
   ]
  },
  {
   "cell_type": "markdown",
   "id": "e476a215-2370-406f-940a-3bb33d502005",
   "metadata": {},
   "source": [
    "Operations on lists"
   ]
  },
  {
   "cell_type": "code",
   "execution_count": 73,
   "id": "92f3cfd2-c344-4632-9772-fd601e008d41",
   "metadata": {},
   "outputs": [],
   "source": [
    "x = len(l1)"
   ]
  },
  {
   "cell_type": "code",
   "execution_count": 75,
   "id": "09de7e45-480c-4611-b929-1cff95df77a7",
   "metadata": {},
   "outputs": [
    {
     "data": {
      "text/plain": [
       "11"
      ]
     },
     "execution_count": 75,
     "metadata": {},
     "output_type": "execute_result"
    }
   ],
   "source": [
    "x"
   ]
  },
  {
   "cell_type": "code",
   "execution_count": 77,
   "id": "a74c6416-f56b-470b-b1c4-0f1d73c11629",
   "metadata": {},
   "outputs": [
    {
     "data": {
      "text/plain": [
       "6"
      ]
     },
     "execution_count": 77,
     "metadata": {},
     "output_type": "execute_result"
    }
   ],
   "source": [
    "len(l2)"
   ]
  },
  {
   "cell_type": "code",
   "execution_count": 79,
   "id": "0858b29f-7303-4eba-b3c0-c5f19e112f4c",
   "metadata": {},
   "outputs": [
    {
     "data": {
      "text/plain": [
       "17"
      ]
     },
     "execution_count": 79,
     "metadata": {},
     "output_type": "execute_result"
    }
   ],
   "source": [
    "len(l3)"
   ]
  },
  {
   "cell_type": "code",
   "execution_count": 81,
   "id": "2b8cdca8-539f-4138-b494-36b883c7f26a",
   "metadata": {},
   "outputs": [
    {
     "ename": "TypeError",
     "evalue": "list.extend() takes exactly one argument (4 given)",
     "output_type": "error",
     "traceback": [
      "\u001b[1;31m---------------------------------------------------------------------------\u001b[0m",
      "\u001b[1;31mTypeError\u001b[0m                                 Traceback (most recent call last)",
      "\u001b[1;32m~\\AppData\\Local\\Temp\\ipykernel_9996\\1638884549.py\u001b[0m in \u001b[0;36m<module>\u001b[1;34m\u001b[0m\n\u001b[1;32m----> 1\u001b[1;33m \u001b[0ml1\u001b[0m\u001b[1;33m.\u001b[0m\u001b[0mextend\u001b[0m\u001b[1;33m(\u001b[0m\u001b[1;34m\"mir\"\u001b[0m\u001b[1;33m,\u001b[0m \u001b[1;36m2.0\u001b[0m\u001b[1;33m,\u001b[0m \u001b[1;36m2\u001b[0m\u001b[1;33m,\u001b[0m \u001b[1;36m3\u001b[0m\u001b[1;33m)\u001b[0m\u001b[1;33m\u001b[0m\u001b[1;33m\u001b[0m\u001b[0m\n\u001b[0m",
      "\u001b[1;31mTypeError\u001b[0m: list.extend() takes exactly one argument (4 given)"
     ]
    }
   ],
   "source": [
    "l1.extend(\"mir\", 2.0, 2, 3)"
   ]
  },
  {
   "cell_type": "code",
   "execution_count": 83,
   "id": "932702bc-1d18-47f1-8801-1229c4f1ac67",
   "metadata": {},
   "outputs": [],
   "source": [
    "l1.append(\"2.0\")"
   ]
  },
  {
   "cell_type": "code",
   "execution_count": 85,
   "id": "a88d1132-ef89-4b11-b842-7ef8a628aea5",
   "metadata": {},
   "outputs": [
    {
     "data": {
      "text/plain": [
       "[1, 2, 3, 4, 5, 11, 22, 33, 44, 55, 'mir', '2.0']"
      ]
     },
     "execution_count": 85,
     "metadata": {},
     "output_type": "execute_result"
    }
   ],
   "source": [
    "l1"
   ]
  },
  {
   "cell_type": "code",
   "execution_count": 87,
   "id": "3a1278d0-cd3b-4389-99fd-8cda539559aa",
   "metadata": {},
   "outputs": [
    {
     "ename": "TypeError",
     "evalue": "'float' object is not iterable",
     "output_type": "error",
     "traceback": [
      "\u001b[1;31m---------------------------------------------------------------------------\u001b[0m",
      "\u001b[1;31mTypeError\u001b[0m                                 Traceback (most recent call last)",
      "\u001b[1;32m~\\AppData\\Local\\Temp\\ipykernel_9996\\2189880103.py\u001b[0m in \u001b[0;36m<module>\u001b[1;34m\u001b[0m\n\u001b[1;32m----> 1\u001b[1;33m \u001b[0ml1\u001b[0m\u001b[1;33m.\u001b[0m\u001b[0mextend\u001b[0m\u001b[1;33m(\u001b[0m\u001b[1;36m3.0\u001b[0m\u001b[1;33m)\u001b[0m\u001b[1;33m\u001b[0m\u001b[1;33m\u001b[0m\u001b[0m\n\u001b[0m",
      "\u001b[1;31mTypeError\u001b[0m: 'float' object is not iterable"
     ]
    }
   ],
   "source": [
    "l1.extend(3.0)"
   ]
  },
  {
   "cell_type": "code",
   "execution_count": 89,
   "id": "79933831-0a87-4f5e-87b9-24f5161e10cd",
   "metadata": {},
   "outputs": [],
   "source": [
    "l1.append(\"3.0\")"
   ]
  },
  {
   "cell_type": "code",
   "execution_count": 91,
   "id": "a49e8e3e-b214-483a-8cd4-492c9b89e7f2",
   "metadata": {},
   "outputs": [
    {
     "data": {
      "text/plain": [
       "[1, 2, 3, 4, 5, 11, 22, 33, 44, 55, 'mir', '2.0', '3.0']"
      ]
     },
     "execution_count": 91,
     "metadata": {},
     "output_type": "execute_result"
    }
   ],
   "source": [
    "l1"
   ]
  },
  {
   "cell_type": "code",
   "execution_count": 93,
   "id": "292da8e5-1638-4cd0-8259-5f397e4f3b92",
   "metadata": {},
   "outputs": [],
   "source": [
    "l4=[2,3,4]"
   ]
  },
  {
   "cell_type": "code",
   "execution_count": 95,
   "id": "a37d260b-4fc9-4da0-9248-082327b1ad3e",
   "metadata": {},
   "outputs": [],
   "source": [
    "l4.extend(\"labeeb\")"
   ]
  },
  {
   "cell_type": "code",
   "execution_count": 97,
   "id": "ed76b34c-7c94-4c97-92db-0a15eab93b49",
   "metadata": {},
   "outputs": [
    {
     "data": {
      "text/plain": [
       "[2, 3, 4, 'l', 'a', 'b', 'e', 'e', 'b']"
      ]
     },
     "execution_count": 97,
     "metadata": {},
     "output_type": "execute_result"
    }
   ],
   "source": [
    "l4"
   ]
  },
  {
   "cell_type": "code",
   "execution_count": 99,
   "id": "30cb3709-f7f2-44e9-99ea-cbdf0940b48b",
   "metadata": {},
   "outputs": [
    {
     "data": {
      "text/plain": [
       "[55, 66, 77, 88, 99, 'dhf']"
      ]
     },
     "execution_count": 99,
     "metadata": {},
     "output_type": "execute_result"
    }
   ],
   "source": [
    "l2"
   ]
  },
  {
   "cell_type": "code",
   "execution_count": 101,
   "id": "a920c68d-8ea2-4427-8605-f43ca8e50314",
   "metadata": {},
   "outputs": [
    {
     "ename": "TypeError",
     "evalue": "'int' object is not iterable",
     "output_type": "error",
     "traceback": [
      "\u001b[1;31m---------------------------------------------------------------------------\u001b[0m",
      "\u001b[1;31mTypeError\u001b[0m                                 Traceback (most recent call last)",
      "\u001b[1;32m~\\AppData\\Local\\Temp\\ipykernel_9996\\3097682883.py\u001b[0m in \u001b[0;36m<module>\u001b[1;34m\u001b[0m\n\u001b[1;32m----> 1\u001b[1;33m \u001b[0ml2\u001b[0m\u001b[1;33m.\u001b[0m\u001b[0mextend\u001b[0m\u001b[1;33m(\u001b[0m\u001b[1;36m14\u001b[0m\u001b[1;33m)\u001b[0m\u001b[1;33m\u001b[0m\u001b[1;33m\u001b[0m\u001b[0m\n\u001b[0m",
      "\u001b[1;31mTypeError\u001b[0m: 'int' object is not iterable"
     ]
    }
   ],
   "source": [
    "l2.extend(14)"
   ]
  },
  {
   "cell_type": "code",
   "execution_count": 103,
   "id": "3f33d159-b991-4d39-b383-8eeec4eb3e47",
   "metadata": {},
   "outputs": [],
   "source": [
    "l2.extend(\"14\")"
   ]
  },
  {
   "cell_type": "code",
   "execution_count": 105,
   "id": "36a23e27-9a89-4d72-9889-9523389e64d7",
   "metadata": {},
   "outputs": [
    {
     "data": {
      "text/plain": [
       "[55, 66, 77, 88, 99, 'dhf', '1', '4']"
      ]
     },
     "execution_count": 105,
     "metadata": {},
     "output_type": "execute_result"
    }
   ],
   "source": [
    "l2"
   ]
  },
  {
   "cell_type": "code",
   "execution_count": 107,
   "id": "474bbe1a-9aee-4251-ae6e-874fc1da5dff",
   "metadata": {},
   "outputs": [
    {
     "data": {
      "text/plain": [
       "1"
      ]
     },
     "execution_count": 107,
     "metadata": {},
     "output_type": "execute_result"
    }
   ],
   "source": [
    "l2.count(55)"
   ]
  },
  {
   "cell_type": "code",
   "execution_count": 109,
   "id": "ffbf4645-f513-406f-9c9d-76d235222293",
   "metadata": {},
   "outputs": [
    {
     "data": {
      "text/plain": [
       "0"
      ]
     },
     "execution_count": 109,
     "metadata": {},
     "output_type": "execute_result"
    }
   ],
   "source": [
    "l2.count(\"55\")"
   ]
  },
  {
   "cell_type": "code",
   "execution_count": 111,
   "id": "78973dc5-8d03-4e42-b23c-d32f174c316e",
   "metadata": {},
   "outputs": [
    {
     "data": {
      "text/plain": [
       "2"
      ]
     },
     "execution_count": 111,
     "metadata": {},
     "output_type": "execute_result"
    }
   ],
   "source": [
    "l2.index(77)"
   ]
  },
  {
   "cell_type": "code",
   "execution_count": 113,
   "id": "21ffbde3-d4ce-49be-95f7-e51f8a034b63",
   "metadata": {},
   "outputs": [],
   "source": [
    "l2.insert(6, \"99\")"
   ]
  },
  {
   "cell_type": "code",
   "execution_count": 115,
   "id": "5af07159-d1f4-4c2c-8654-ff4d296a6d74",
   "metadata": {},
   "outputs": [
    {
     "data": {
      "text/plain": [
       "[55, 66, 77, 88, 99, 'dhf', '99', '1', '4']"
      ]
     },
     "execution_count": 115,
     "metadata": {},
     "output_type": "execute_result"
    }
   ],
   "source": [
    "l2"
   ]
  },
  {
   "cell_type": "code",
   "execution_count": 117,
   "id": "02ba2215-df02-473b-a6d0-e6eb797c3979",
   "metadata": {},
   "outputs": [],
   "source": [
    "l2.insert(6,99)"
   ]
  },
  {
   "cell_type": "code",
   "execution_count": 119,
   "id": "7995cf07-7191-4f90-bba5-f0879b285ac1",
   "metadata": {},
   "outputs": [
    {
     "data": {
      "text/plain": [
       "[55, 66, 77, 88, 99, 'dhf', 99, '99', '1', '4']"
      ]
     },
     "execution_count": 119,
     "metadata": {},
     "output_type": "execute_result"
    }
   ],
   "source": [
    "l2"
   ]
  },
  {
   "cell_type": "code",
   "execution_count": 125,
   "id": "ffe05eab-508f-4c5c-842f-e5f4b9a4cdc8",
   "metadata": {},
   "outputs": [],
   "source": [
    "y = l2.pop()"
   ]
  },
  {
   "cell_type": "code",
   "execution_count": 127,
   "id": "9ba88733-2e92-4630-883c-0acdd90fdfca",
   "metadata": {},
   "outputs": [
    {
     "data": {
      "text/plain": [
       "'4'"
      ]
     },
     "execution_count": 127,
     "metadata": {},
     "output_type": "execute_result"
    }
   ],
   "source": [
    "y"
   ]
  },
  {
   "cell_type": "code",
   "execution_count": 129,
   "id": "44472999-f77f-489b-971c-1d62854ab673",
   "metadata": {},
   "outputs": [
    {
     "data": {
      "text/plain": [
       "66"
      ]
     },
     "execution_count": 129,
     "metadata": {},
     "output_type": "execute_result"
    }
   ],
   "source": [
    "l2.pop(1)#index in brackets"
   ]
  },
  {
   "cell_type": "code",
   "execution_count": 131,
   "id": "403af439-df16-43ba-b332-f6f3f8d47eae",
   "metadata": {},
   "outputs": [
    {
     "data": {
      "text/plain": [
       "[55, 77, 88, 99, 'dhf', 99, '99', '1']"
      ]
     },
     "execution_count": 131,
     "metadata": {},
     "output_type": "execute_result"
    }
   ],
   "source": [
    "l2"
   ]
  },
  {
   "cell_type": "code",
   "execution_count": 133,
   "id": "4264654e-d1a3-499b-8b12-a78362fffb56",
   "metadata": {},
   "outputs": [],
   "source": [
    "l2.remove(99)"
   ]
  },
  {
   "cell_type": "code",
   "execution_count": 135,
   "id": "736d0224-0920-4db3-859f-2e5b7c897973",
   "metadata": {},
   "outputs": [
    {
     "data": {
      "text/plain": [
       "[55, 77, 88, 'dhf', 99, '99', '1']"
      ]
     },
     "execution_count": 135,
     "metadata": {},
     "output_type": "execute_result"
    }
   ],
   "source": [
    "l2"
   ]
  },
  {
   "cell_type": "code",
   "execution_count": 137,
   "id": "ed035bd8-af8d-4bae-b573-96e0270f2c0e",
   "metadata": {},
   "outputs": [],
   "source": [
    "l2.remove('99')"
   ]
  },
  {
   "cell_type": "code",
   "execution_count": 139,
   "id": "4bfdbfb4-cbb5-4116-9f8d-bc5ef5c67957",
   "metadata": {},
   "outputs": [
    {
     "data": {
      "text/plain": [
       "[55, 77, 88, 'dhf', 99, '1']"
      ]
     },
     "execution_count": 139,
     "metadata": {},
     "output_type": "execute_result"
    }
   ],
   "source": [
    "l2"
   ]
  },
  {
   "cell_type": "code",
   "execution_count": 141,
   "id": "60949fcf-e525-46e2-8a7e-22a313395935",
   "metadata": {},
   "outputs": [
    {
     "ename": "ValueError",
     "evalue": "list.remove(x): x not in list",
     "output_type": "error",
     "traceback": [
      "\u001b[1;31m---------------------------------------------------------------------------\u001b[0m",
      "\u001b[1;31mValueError\u001b[0m                                Traceback (most recent call last)",
      "\u001b[1;32m~\\AppData\\Local\\Temp\\ipykernel_9996\\827048307.py\u001b[0m in \u001b[0;36m<module>\u001b[1;34m\u001b[0m\n\u001b[1;32m----> 1\u001b[1;33m \u001b[0ml2\u001b[0m\u001b[1;33m.\u001b[0m\u001b[0mremove\u001b[0m\u001b[1;33m(\u001b[0m\u001b[1;33m[\u001b[0m\u001b[1;36m55\u001b[0m\u001b[1;33m,\u001b[0m\u001b[1;36m77\u001b[0m\u001b[1;33m]\u001b[0m\u001b[1;33m)\u001b[0m\u001b[1;33m\u001b[0m\u001b[1;33m\u001b[0m\u001b[0m\n\u001b[0m",
      "\u001b[1;31mValueError\u001b[0m: list.remove(x): x not in list"
     ]
    }
   ],
   "source": [
    "l2.remove([55,77])"
   ]
  },
  {
   "cell_type": "code",
   "execution_count": 143,
   "id": "9c5d0674-d4da-4c78-aee2-c46942bb0a2e",
   "metadata": {},
   "outputs": [
    {
     "data": {
      "text/plain": [
       "[55, 77, 88, 'dhf', 99, '1']"
      ]
     },
     "execution_count": 143,
     "metadata": {},
     "output_type": "execute_result"
    }
   ],
   "source": [
    "l2"
   ]
  },
  {
   "cell_type": "code",
   "execution_count": 145,
   "id": "4cdbd213-88d6-4bee-986c-f786d6b29824",
   "metadata": {},
   "outputs": [],
   "source": [
    "l2.reverse()"
   ]
  },
  {
   "cell_type": "code",
   "execution_count": 147,
   "id": "11581d1e-ab93-47dd-ab68-7111d587583b",
   "metadata": {},
   "outputs": [
    {
     "data": {
      "text/plain": [
       "['1', 99, 'dhf', 88, 77, 55]"
      ]
     },
     "execution_count": 147,
     "metadata": {},
     "output_type": "execute_result"
    }
   ],
   "source": [
    "l2"
   ]
  },
  {
   "cell_type": "code",
   "execution_count": 149,
   "id": "327f5106-0364-4a35-8430-881d25fe0d3a",
   "metadata": {},
   "outputs": [
    {
     "ename": "TypeError",
     "evalue": "'<' not supported between instances of 'int' and 'str'",
     "output_type": "error",
     "traceback": [
      "\u001b[1;31m---------------------------------------------------------------------------\u001b[0m",
      "\u001b[1;31mTypeError\u001b[0m                                 Traceback (most recent call last)",
      "\u001b[1;32m~\\AppData\\Local\\Temp\\ipykernel_9996\\3971031949.py\u001b[0m in \u001b[0;36m<module>\u001b[1;34m\u001b[0m\n\u001b[1;32m----> 1\u001b[1;33m \u001b[0ml2\u001b[0m\u001b[1;33m.\u001b[0m\u001b[0msort\u001b[0m\u001b[1;33m(\u001b[0m\u001b[1;33m)\u001b[0m\u001b[1;33m\u001b[0m\u001b[1;33m\u001b[0m\u001b[0m\n\u001b[0m",
      "\u001b[1;31mTypeError\u001b[0m: '<' not supported between instances of 'int' and 'str'"
     ]
    }
   ],
   "source": [
    "l2.sort()"
   ]
  },
  {
   "cell_type": "code",
   "execution_count": 151,
   "id": "ba161f65-df22-4114-831d-d774982aca34",
   "metadata": {},
   "outputs": [],
   "source": [
    "l4=[1.7,877,54.6]"
   ]
  },
  {
   "cell_type": "code",
   "execution_count": 153,
   "id": "164d6b70-e126-4993-9f33-0aca16df8662",
   "metadata": {},
   "outputs": [],
   "source": [
    "l4.sort()"
   ]
  },
  {
   "cell_type": "code",
   "execution_count": 155,
   "id": "ad0bd9f5-7069-4932-b190-3fea70716a4f",
   "metadata": {},
   "outputs": [
    {
     "data": {
      "text/plain": [
       "[1.7, 54.6, 877]"
      ]
     },
     "execution_count": 155,
     "metadata": {},
     "output_type": "execute_result"
    }
   ],
   "source": [
    "l4"
   ]
  },
  {
   "cell_type": "markdown",
   "id": "8d0db5ea-42e6-429e-935f-ba8bc9382507",
   "metadata": {},
   "source": [
    "Tuple"
   ]
  },
  {
   "cell_type": "code",
   "execution_count": 158,
   "id": "77ccbb66-0440-4b97-a0e8-bafb29874557",
   "metadata": {},
   "outputs": [],
   "source": [
    "t1=2,3,4,5,6"
   ]
  },
  {
   "cell_type": "code",
   "execution_count": 160,
   "id": "9fa772a6-c5b6-4e7c-9820-7f72c041ddc2",
   "metadata": {},
   "outputs": [
    {
     "data": {
      "text/plain": [
       "(2, 3, 4, 5, 6)"
      ]
     },
     "execution_count": 160,
     "metadata": {},
     "output_type": "execute_result"
    }
   ],
   "source": [
    "t1"
   ]
  },
  {
   "cell_type": "code",
   "execution_count": 162,
   "id": "5e146213-fbf6-4482-b3bb-0cfee25ec21b",
   "metadata": {},
   "outputs": [
    {
     "data": {
      "text/plain": [
       "tuple"
      ]
     },
     "execution_count": 162,
     "metadata": {},
     "output_type": "execute_result"
    }
   ],
   "source": [
    "type(t1)"
   ]
  },
  {
   "cell_type": "code",
   "execution_count": 166,
   "id": "9f1aa9b2-ab6d-43e2-b7cf-1ca0db81a889",
   "metadata": {},
   "outputs": [
    {
     "data": {
      "text/plain": [
       "(4, 5, 6)"
      ]
     },
     "execution_count": 166,
     "metadata": {},
     "output_type": "execute_result"
    }
   ],
   "source": [
    "t1[2:7:1]"
   ]
  },
  {
   "cell_type": "code",
   "execution_count": 168,
   "id": "f5559f47-6b30-4407-a00f-022e544f0e90",
   "metadata": {},
   "outputs": [
    {
     "data": {
      "text/plain": [
       "(2, 3, 4, 5, 6)"
      ]
     },
     "execution_count": 168,
     "metadata": {},
     "output_type": "execute_result"
    }
   ],
   "source": [
    "t1[::]"
   ]
  },
  {
   "cell_type": "code",
   "execution_count": 172,
   "id": "6448da2e-73d3-4317-86d1-e91eea7878cb",
   "metadata": {},
   "outputs": [
    {
     "data": {
      "text/plain": [
       "(6, 5, 4, 3, 2)"
      ]
     },
     "execution_count": 172,
     "metadata": {},
     "output_type": "execute_result"
    }
   ],
   "source": [
    "t1[::-1]"
   ]
  },
  {
   "cell_type": "code",
   "execution_count": 174,
   "id": "ddc042e8-0c23-4a1d-b5cd-07fd3ed2a245",
   "metadata": {},
   "outputs": [
    {
     "data": {
      "text/plain": [
       "0"
      ]
     },
     "execution_count": 174,
     "metadata": {},
     "output_type": "execute_result"
    }
   ],
   "source": [
    "t1.count(1)"
   ]
  },
  {
   "cell_type": "code",
   "execution_count": 176,
   "id": "a93fbdf8-f466-48ac-94ef-d4670addddd9",
   "metadata": {},
   "outputs": [
    {
     "data": {
      "text/plain": [
       "1"
      ]
     },
     "execution_count": 176,
     "metadata": {},
     "output_type": "execute_result"
    }
   ],
   "source": [
    "t1.index(3)"
   ]
  },
  {
   "cell_type": "code",
   "execution_count": 178,
   "id": "03207967-95d4-4512-a8ce-50f8e8b26b60",
   "metadata": {},
   "outputs": [
    {
     "ename": "ValueError",
     "evalue": "tuple.index(x): x not in tuple",
     "output_type": "error",
     "traceback": [
      "\u001b[1;31m---------------------------------------------------------------------------\u001b[0m",
      "\u001b[1;31mValueError\u001b[0m                                Traceback (most recent call last)",
      "\u001b[1;32m~\\AppData\\Local\\Temp\\ipykernel_9996\\3525032586.py\u001b[0m in \u001b[0;36m<module>\u001b[1;34m\u001b[0m\n\u001b[1;32m----> 1\u001b[1;33m \u001b[0mt1\u001b[0m\u001b[1;33m.\u001b[0m\u001b[0mindex\u001b[0m\u001b[1;33m(\u001b[0m\u001b[1;36m1\u001b[0m\u001b[1;33m)\u001b[0m\u001b[1;33m\u001b[0m\u001b[1;33m\u001b[0m\u001b[0m\n\u001b[0m",
      "\u001b[1;31mValueError\u001b[0m: tuple.index(x): x not in tuple"
     ]
    }
   ],
   "source": [
    "t1.index(1)"
   ]
  },
  {
   "cell_type": "code",
   "execution_count": 180,
   "id": "307d809c-1882-4f45-a2e2-742d4910e73c",
   "metadata": {},
   "outputs": [],
   "source": [
    "t6 = (2,3,4,5,6,(55,66,77),(1,2,444))"
   ]
  },
  {
   "cell_type": "code",
   "execution_count": 182,
   "id": "09c2e356-2c40-4bfe-939c-404425b6b19f",
   "metadata": {},
   "outputs": [],
   "source": [
    "newt6 = list(t6) #convert tuple to list to modify and then convert back to tuple"
   ]
  },
  {
   "cell_type": "code",
   "execution_count": 184,
   "id": "d7ac5cce-b0f7-4eb0-b18c-6c13561debc6",
   "metadata": {},
   "outputs": [
    {
     "data": {
      "text/plain": [
       "list"
      ]
     },
     "execution_count": 184,
     "metadata": {},
     "output_type": "execute_result"
    }
   ],
   "source": [
    "type(newt6)"
   ]
  },
  {
   "cell_type": "code",
   "execution_count": 186,
   "id": "003171c6-70ca-4538-aa41-17eeac4da712",
   "metadata": {},
   "outputs": [
    {
     "data": {
      "text/plain": [
       "[2, 3, 4, 5, 6, (55, 66, 77), (1, 2, 444)]"
      ]
     },
     "execution_count": 186,
     "metadata": {},
     "output_type": "execute_result"
    }
   ],
   "source": [
    "newt6"
   ]
  },
  {
   "cell_type": "code",
   "execution_count": 188,
   "id": "ee0a91d5-5e23-4677-8db9-e8f7d892cb68",
   "metadata": {},
   "outputs": [],
   "source": [
    "#even after converting, nested tuples are still stored as tuples not converted to list"
   ]
  },
  {
   "cell_type": "code",
   "execution_count": 190,
   "id": "143ff6c3-abd6-4b5f-8168-e6487f38ce74",
   "metadata": {},
   "outputs": [],
   "source": [
    "newt6.append(\"abc\")"
   ]
  },
  {
   "cell_type": "code",
   "execution_count": 192,
   "id": "c9651a7f-590a-4816-a2cc-5a79d03bc9ca",
   "metadata": {},
   "outputs": [
    {
     "data": {
      "text/plain": [
       "[2, 3, 4, 5, 6, (55, 66, 77), (1, 2, 444), 'abc']"
      ]
     },
     "execution_count": 192,
     "metadata": {},
     "output_type": "execute_result"
    }
   ],
   "source": [
    "newt6"
   ]
  },
  {
   "cell_type": "code",
   "execution_count": 194,
   "id": "8a184d42-f345-48a4-9c6c-6776de587e96",
   "metadata": {},
   "outputs": [],
   "source": [
    "reveretedt6=tuple(newt6)"
   ]
  },
  {
   "cell_type": "code",
   "execution_count": 196,
   "id": "b2b0ec67-6ed6-4e04-86c7-4174ee781474",
   "metadata": {},
   "outputs": [
    {
     "data": {
      "text/plain": [
       "tuple"
      ]
     },
     "execution_count": 196,
     "metadata": {},
     "output_type": "execute_result"
    }
   ],
   "source": [
    "type(reveretedt6)"
   ]
  },
  {
   "cell_type": "code",
   "execution_count": 200,
   "id": "b7266463-c202-4b5b-9061-bde8e26498d9",
   "metadata": {},
   "outputs": [
    {
     "data": {
      "text/plain": [
       "(2, 3, 4, 5, 6, (55, 66, 77), (1, 2, 444), 'abc')"
      ]
     },
     "execution_count": 200,
     "metadata": {},
     "output_type": "execute_result"
    }
   ],
   "source": [
    "reveretedt6"
   ]
  },
  {
   "cell_type": "code",
   "execution_count": 202,
   "id": "e27a348f-4ab8-446f-8064-73b8328c2712",
   "metadata": {},
   "outputs": [
    {
     "data": {
      "text/plain": [
       "1"
      ]
     },
     "execution_count": 202,
     "metadata": {},
     "output_type": "execute_result"
    }
   ],
   "source": [
    "reveretedt6.count(2)"
   ]
  },
  {
   "cell_type": "code",
   "execution_count": 204,
   "id": "2a084b8f-5f44-4b8c-bb73-b42ff0503d49",
   "metadata": {},
   "outputs": [],
   "source": [
    "t1=(2,3,4,5,6)"
   ]
  },
  {
   "cell_type": "code",
   "execution_count": 206,
   "id": "005415f4-6f76-48e5-afa0-24983c027177",
   "metadata": {},
   "outputs": [],
   "source": [
    "t2 = (3,4,5,6,7)"
   ]
  },
  {
   "cell_type": "code",
   "execution_count": 208,
   "id": "20049541-3cef-4b7d-acd7-d55d725fe0e6",
   "metadata": {},
   "outputs": [
    {
     "data": {
      "text/plain": [
       "(2, 3, 4, 5, 6, 3, 4, 5, 6, 7)"
      ]
     },
     "execution_count": 208,
     "metadata": {},
     "output_type": "execute_result"
    }
   ],
   "source": [
    "t1+t2"
   ]
  },
  {
   "cell_type": "code",
   "execution_count": 210,
   "id": "0f9c4378-fb86-4826-943c-166f25862889",
   "metadata": {},
   "outputs": [
    {
     "data": {
      "text/plain": [
       "(3, 4, 5, 6, 7, 3, 4, 5, 6, 7)"
      ]
     },
     "execution_count": 210,
     "metadata": {},
     "output_type": "execute_result"
    }
   ],
   "source": [
    "t2 * 2"
   ]
  },
  {
   "cell_type": "code",
   "execution_count": 212,
   "id": "b4433456-951d-4272-8f99-9e5e15f1f241",
   "metadata": {},
   "outputs": [
    {
     "data": {
      "text/plain": [
       "66"
      ]
     },
     "execution_count": 212,
     "metadata": {},
     "output_type": "execute_result"
    }
   ],
   "source": [
    "t6[5][1]"
   ]
  },
  {
   "cell_type": "code",
   "execution_count": null,
   "id": "8c43aff3-18f1-4da4-aefd-7481dcaaa931",
   "metadata": {},
   "outputs": [],
   "source": []
  }
 ],
 "metadata": {
  "kernelspec": {
   "display_name": "Python [conda env:Anaconda3]",
   "language": "python",
   "name": "conda-env-Anaconda3-py"
  },
  "language_info": {
   "codemirror_mode": {
    "name": "ipython",
    "version": 3
   },
   "file_extension": ".py",
   "mimetype": "text/x-python",
   "name": "python",
   "nbconvert_exporter": "python",
   "pygments_lexer": "ipython3",
   "version": "3.9.16"
  }
 },
 "nbformat": 4,
 "nbformat_minor": 5
}
