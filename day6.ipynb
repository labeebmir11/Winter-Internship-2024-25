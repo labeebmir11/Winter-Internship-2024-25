{
 "cells": [
  {
   "cell_type": "code",
   "execution_count": 1,
   "id": "57d25b26-e58b-4012-80f0-2f9547ec57d2",
   "metadata": {},
   "outputs": [],
   "source": [
    "#program discussion, if else, for loop"
   ]
  },
  {
   "cell_type": "code",
   "execution_count": 3,
   "id": "3e025d0c-a165-4cec-82a3-455d00d3f3be",
   "metadata": {},
   "outputs": [],
   "source": [
    "a = 111"
   ]
  },
  {
   "cell_type": "code",
   "execution_count": 5,
   "id": "1732f5cd-31b6-4f08-84d7-1d894c651fab",
   "metadata": {},
   "outputs": [
    {
     "data": {
      "text/plain": [
       "111"
      ]
     },
     "execution_count": 5,
     "metadata": {},
     "output_type": "execute_result"
    }
   ],
   "source": [
    "a"
   ]
  },
  {
   "cell_type": "code",
   "execution_count": 7,
   "id": "527a8d27-6bf4-42f4-a1d9-6b5afc2613f7",
   "metadata": {},
   "outputs": [],
   "source": [
    "if a < 1:\n",
    "    print(\"Labeeb\")"
   ]
  },
  {
   "cell_type": "code",
   "execution_count": 9,
   "id": "19c17e63-8059-4ba5-b56d-0b5493de25de",
   "metadata": {},
   "outputs": [],
   "source": [
    "#we use the concept of indentation in python"
   ]
  },
  {
   "cell_type": "code",
   "execution_count": 13,
   "id": "421e0306-0fa5-4b79-a96c-e901332f0246",
   "metadata": {},
   "outputs": [
    {
     "name": "stdout",
     "output_type": "stream",
     "text": [
      "abc\n",
      "pqr\n"
     ]
    }
   ],
   "source": [
    "if a < 1111 :\n",
    "    print(\"abc\")\n",
    "    print(\"pqr\")"
   ]
  },
  {
   "cell_type": "code",
   "execution_count": 15,
   "id": "bacfc63e-b800-4427-afdd-b93b37dfca8c",
   "metadata": {},
   "outputs": [
    {
     "name": "stdout",
     "output_type": "stream",
     "text": [
      "pqr\n"
     ]
    }
   ],
   "source": [
    "if a < 1 :\n",
    "    print(\"abc\")\n",
    "print(\"pqr\") #removing indentation"
   ]
  },
  {
   "cell_type": "code",
   "execution_count": 17,
   "id": "17c12fd2-34c2-48db-8eb9-37980d1419ac",
   "metadata": {},
   "outputs": [],
   "source": [
    "#pass continue and block are used inside blocks (for loop, if else)"
   ]
  },
  {
   "cell_type": "code",
   "execution_count": 19,
   "id": "0761214d-b220-4605-9f3d-a1f1a763866d",
   "metadata": {},
   "outputs": [],
   "source": [
    "#pass:The pass statement in Python is a placeholder statement that does nothing when executed. It is typically used as a placeholder in code where a statement is syntactically required but no action is needed at that moment."
   ]
  },
  {
   "cell_type": "code",
   "execution_count": 21,
   "id": "bf6d9a63-aca4-4e6c-813c-fc62b0c6a007",
   "metadata": {},
   "outputs": [
    {
     "ename": "IndentationError",
     "evalue": "expected an indented block (430069765.py, line 1)",
     "output_type": "error",
     "traceback": [
      "\u001b[1;36m  File \u001b[1;32m\"C:\\Users\\labee\\AppData\\Local\\Temp\\ipykernel_16668\\430069765.py\"\u001b[1;36m, line \u001b[1;32m1\u001b[0m\n\u001b[1;33m    if a < 1:\u001b[0m\n\u001b[1;37m             ^\u001b[0m\n\u001b[1;31mIndentationError\u001b[0m\u001b[1;31m:\u001b[0m expected an indented block\n"
     ]
    }
   ],
   "source": [
    "if a < 1:"
   ]
  },
  {
   "cell_type": "code",
   "execution_count": 23,
   "id": "7e19c706-cad9-4da9-b195-3a0d43f2551c",
   "metadata": {},
   "outputs": [],
   "source": [
    "if a < 1:\n",
    "    pass"
   ]
  },
  {
   "cell_type": "code",
   "execution_count": 25,
   "id": "1f74e90b-aa6c-4d3a-8178-0ef3f74e00c0",
   "metadata": {},
   "outputs": [
    {
     "name": "stdout",
     "output_type": "stream",
     "text": [
      "my name is labeeb\n"
     ]
    }
   ],
   "source": [
    "if 12 < 20:\n",
    "    print(\"my name is labeeb\")\n",
    "else:\n",
    "    print(\"Data entered is wrong\")"
   ]
  },
  {
   "cell_type": "code",
   "execution_count": 27,
   "id": "c0ff6150-5f4a-4101-9513-b9875ea02cd1",
   "metadata": {},
   "outputs": [
    {
     "name": "stdin",
     "output_type": "stream",
     "text": [
      " Labeeb\n",
      " 750\n"
     ]
    },
    {
     "name": "stdout",
     "output_type": "stream",
     "text": [
      "The person will be able to buy an apartment\n"
     ]
    }
   ],
   "source": [
    "name = input()\n",
    "salary = int(input()) #input is always in form of string by default\n",
    "if salary<500:\n",
    "    print(\"The person can purchase a phone\")\n",
    "elif salary < 700:\n",
    "    print(\"The person can buy a car\")\n",
    "elif salary < 900:\n",
    "    print(\"The person will be able to buy an apartment\")\n",
    "else:\n",
    "    print(\"The person will not be able to buy anything\")"
   ]
  },
  {
   "cell_type": "code",
   "execution_count": 35,
   "id": "7ab14beb-ae70-4a60-b553-8c1d6ca34276",
   "metadata": {},
   "outputs": [
    {
     "name": "stdin",
     "output_type": "stream",
     "text": [
      "Enter total price 43432\n"
     ]
    },
    {
     "name": "stdout",
     "output_type": "stream",
     "text": [
      "discount will be 8686.4\n"
     ]
    }
   ],
   "source": [
    "total_price = int(input(\"Enter total price\"))\n",
    "if total_price > 20000:\n",
    "    discount = total_price * .20\n",
    "    print(\"discount will be\",discount)\n",
    "elif total_price <= 5000:\n",
    "    discount = total_price * .02\n",
    "    print(\"discount will be\", discount)\n",
    "else:\n",
    "    print(\"No discount\")\n",
    "    "
   ]
  },
  {
   "cell_type": "markdown",
   "id": "aba667cc-8862-453e-a5db-6df667769250",
   "metadata": {},
   "source": [
    "Loops"
   ]
  },
  {
   "cell_type": "code",
   "execution_count": 40,
   "id": "ef9a38bd-8152-4128-8fbf-369b25ba089b",
   "metadata": {},
   "outputs": [
    {
     "name": "stdout",
     "output_type": "stream",
     "text": [
      "l\n",
      "a\n",
      "b\n",
      "e\n",
      "e\n",
      "b\n"
     ]
    }
   ],
   "source": [
    "for i in \"labeeb\":\n",
    "    print(i)"
   ]
  },
  {
   "cell_type": "code",
   "execution_count": 42,
   "id": "81287436-5f08-4cb1-ba69-98d8078f2f4c",
   "metadata": {},
   "outputs": [],
   "source": [
    "t=1,2,3,4,5,6,7,8 #tuple"
   ]
  },
  {
   "cell_type": "code",
   "execution_count": 44,
   "id": "9a8f79f9-80ef-4c80-bed7-e602589dbeff",
   "metadata": {},
   "outputs": [
    {
     "name": "stdout",
     "output_type": "stream",
     "text": [
      "1\n",
      "2\n",
      "3\n",
      "4\n",
      "5\n",
      "6\n",
      "7\n",
      "8\n"
     ]
    }
   ],
   "source": [
    "for i in t:\n",
    "    print(i)"
   ]
  },
  {
   "cell_type": "code",
   "execution_count": 46,
   "id": "12e13bfe-ba68-40fd-87ab-0098bd2b9a56",
   "metadata": {},
   "outputs": [],
   "source": [
    "l=[1,2,3,4,5.5,5+7j,\"labeeb\"]"
   ]
  },
  {
   "cell_type": "code",
   "execution_count": 48,
   "id": "77832336-ae8d-464d-9e30-2cb0648c868a",
   "metadata": {},
   "outputs": [
    {
     "name": "stdout",
     "output_type": "stream",
     "text": [
      "1\n",
      "2\n",
      "3\n",
      "4\n",
      "5.5\n",
      "(5+7j)\n",
      "labeeb\n"
     ]
    }
   ],
   "source": [
    "for i in l:\n",
    "    print(i)"
   ]
  },
  {
   "cell_type": "code",
   "execution_count": 52,
   "id": "ba898870-9bb9-4350-88f3-05c0cd2ee7a6",
   "metadata": {},
   "outputs": [
    {
     "name": "stdout",
     "output_type": "stream",
     "text": [
      "<class 'int'> 1\n",
      "<class 'int'> 2\n",
      "<class 'int'> 3\n",
      "<class 'int'> 4\n",
      "<class 'float'> 5.5\n",
      "<class 'complex'> (5+7j)\n",
      "<class 'str'> labeeb\n"
     ]
    }
   ],
   "source": [
    "for i in l:\n",
    "    print(type(i),i)"
   ]
  },
  {
   "cell_type": "code",
   "execution_count": 62,
   "id": "6511e271-420b-4698-b65d-300ce1bbe196",
   "metadata": {},
   "outputs": [],
   "source": [
    "l=[1,2,4,5]"
   ]
  },
  {
   "cell_type": "code",
   "execution_count": 66,
   "id": "cab86b2f-615f-4f4c-808f-bcc1fdd5429c",
   "metadata": {},
   "outputs": [],
   "source": [
    "l1=[]"
   ]
  },
  {
   "cell_type": "code",
   "execution_count": 70,
   "id": "d6a19f20-89e1-4a69-a9c8-9919f3e91d7d",
   "metadata": {},
   "outputs": [
    {
     "name": "stdout",
     "output_type": "stream",
     "text": [
      "3\n",
      "4\n",
      "6\n",
      "7\n"
     ]
    }
   ],
   "source": [
    "for i  in l:\n",
    "    print(i+2)\n",
    "    l1.append(i+2)"
   ]
  },
  {
   "cell_type": "code",
   "execution_count": 72,
   "id": "31e4049a-5169-4aa2-b71c-37352504119e",
   "metadata": {},
   "outputs": [
    {
     "data": {
      "text/plain": [
       "[3, 4, 6, 7]"
      ]
     },
     "execution_count": 72,
     "metadata": {},
     "output_type": "execute_result"
    }
   ],
   "source": [
    "l1"
   ]
  },
  {
   "cell_type": "code",
   "execution_count": 60,
   "id": "f153fdd9-0e41-4ce7-be14-15589481ecf1",
   "metadata": {},
   "outputs": [
    {
     "data": {
      "text/plain": [
       "[1, 2, 4, 5, 4]"
      ]
     },
     "execution_count": 60,
     "metadata": {},
     "output_type": "execute_result"
    }
   ],
   "source": [
    "l"
   ]
  },
  {
   "cell_type": "code",
   "execution_count": 74,
   "id": "59e2d0fa-245e-4993-a356-baf324f1ac8d",
   "metadata": {},
   "outputs": [],
   "source": [
    "l = [2,3,4,5,\"Labeeb\", (4+6j), [55,66,77]]"
   ]
  },
  {
   "cell_type": "code",
   "execution_count": 76,
   "id": "253affd2-088e-417b-8e8b-cd221ff1962e",
   "metadata": {},
   "outputs": [],
   "source": [
    "#wap to display only integer values present inside list"
   ]
  },
  {
   "cell_type": "code",
   "execution_count": 80,
   "id": "1d356c65-94ac-4fcf-91bc-fc0cb0173939",
   "metadata": {},
   "outputs": [
    {
     "name": "stdout",
     "output_type": "stream",
     "text": [
      "2\n",
      "3\n",
      "4\n",
      "5\n",
      "55\n",
      "66\n",
      "77\n"
     ]
    }
   ],
   "source": [
    "for i in l:\n",
    "    if type(i)== int:\n",
    "        print(i)\n",
    "    elif type(i)==list:\n",
    "        for j in i:\n",
    "            if type(j)==int:\n",
    "                print(j)"
   ]
  },
  {
   "cell_type": "code",
   "execution_count": 82,
   "id": "7834c68c-c2f8-4996-a7ec-7603168a77e3",
   "metadata": {},
   "outputs": [],
   "source": [
    "t1=(1,2,3,(4,5, 'a'),9+12j, 'abc')"
   ]
  },
  {
   "cell_type": "code",
   "execution_count": 86,
   "id": "6119a84a-809c-45ec-81ac-fa55a82933bf",
   "metadata": {},
   "outputs": [
    {
     "name": "stdout",
     "output_type": "stream",
     "text": [
      "1\n",
      "2\n",
      "3\n",
      "4\n",
      "5\n"
     ]
    }
   ],
   "source": [
    "for i in t1:\n",
    "    if type(i)==int:\n",
    "        print(i)\n",
    "    elif type(i)==tuple:\n",
    "        for j in i:\n",
    "            if type(j)==int:\n",
    "                print(j)\n",
    "        "
   ]
  },
  {
   "cell_type": "code",
   "execution_count": 88,
   "id": "142dd1b9-fe96-4d88-bb92-44b9471a1a09",
   "metadata": {},
   "outputs": [],
   "source": [
    "#Range"
   ]
  },
  {
   "cell_type": "code",
   "execution_count": 90,
   "id": "ed4d5ec7-d8c9-4f61-971d-6ac21ba4ff5c",
   "metadata": {},
   "outputs": [
    {
     "data": {
      "text/plain": [
       "range(0, 4)"
      ]
     },
     "execution_count": 90,
     "metadata": {},
     "output_type": "execute_result"
    }
   ],
   "source": [
    "range(4)"
   ]
  },
  {
   "cell_type": "code",
   "execution_count": 92,
   "id": "498bd7f1-e7a1-4974-9d32-7fef75b2a6f1",
   "metadata": {},
   "outputs": [
    {
     "data": {
      "text/plain": [
       "range(0, 10)"
      ]
     },
     "execution_count": 92,
     "metadata": {},
     "output_type": "execute_result"
    }
   ],
   "source": [
    "range(10)"
   ]
  },
  {
   "cell_type": "code",
   "execution_count": 94,
   "id": "65f0cbbb-2656-4415-867f-c1a2e3fa0cd3",
   "metadata": {},
   "outputs": [
    {
     "data": {
      "text/plain": [
       "[2, 3, 4, 5, 'Labeeb', (4+6j), [55, 66, 77]]"
      ]
     },
     "execution_count": 94,
     "metadata": {},
     "output_type": "execute_result"
    }
   ],
   "source": [
    "l"
   ]
  },
  {
   "cell_type": "code",
   "execution_count": 96,
   "id": "21ece5fb-0971-4e8f-9670-10d6acc73229",
   "metadata": {},
   "outputs": [
    {
     "data": {
      "text/plain": [
       "7"
      ]
     },
     "execution_count": 96,
     "metadata": {},
     "output_type": "execute_result"
    }
   ],
   "source": [
    "len(l)"
   ]
  },
  {
   "cell_type": "code",
   "execution_count": 98,
   "id": "db5a5157-f30c-48d7-88d6-7f09380a1be1",
   "metadata": {},
   "outputs": [
    {
     "name": "stdout",
     "output_type": "stream",
     "text": [
      "2\n",
      "3\n",
      "4\n",
      "5\n",
      "Labeeb\n",
      "(4+6j)\n",
      "[55, 66, 77]\n"
     ]
    }
   ],
   "source": [
    "for i in l:\n",
    "    print(i)"
   ]
  },
  {
   "cell_type": "code",
   "execution_count": 100,
   "id": "a8f39a54-5adb-492b-9b8b-7a0626461a52",
   "metadata": {},
   "outputs": [
    {
     "name": "stdout",
     "output_type": "stream",
     "text": [
      "0\n",
      "1\n",
      "2\n",
      "3\n",
      "4\n",
      "5\n",
      "6\n"
     ]
    }
   ],
   "source": [
    "for i in range(len(l)):\n",
    "    print(i)"
   ]
  },
  {
   "cell_type": "code",
   "execution_count": 102,
   "id": "9590daf9-d1a5-420b-9dee-a5db53c60299",
   "metadata": {},
   "outputs": [
    {
     "name": "stdout",
     "output_type": "stream",
     "text": [
      "2\n",
      "3\n",
      "4\n",
      "5\n",
      "Labeeb\n",
      "(4+6j)\n",
      "[55, 66, 77]\n"
     ]
    }
   ],
   "source": [
    "for i in range(len(l)):\n",
    "    print(l[i])"
   ]
  },
  {
   "cell_type": "code",
   "execution_count": null,
   "id": "5f9e51c5-5384-491d-8840-f6b3c03406c5",
   "metadata": {},
   "outputs": [],
   "source": []
  }
 ],
 "metadata": {
  "kernelspec": {
   "display_name": "Python [conda env:Anaconda3]",
   "language": "python",
   "name": "conda-env-Anaconda3-py"
  },
  "language_info": {
   "codemirror_mode": {
    "name": "ipython",
    "version": 3
   },
   "file_extension": ".py",
   "mimetype": "text/x-python",
   "name": "python",
   "nbconvert_exporter": "python",
   "pygments_lexer": "ipython3",
   "version": "3.9.16"
  }
 },
 "nbformat": 4,
 "nbformat_minor": 5
}
